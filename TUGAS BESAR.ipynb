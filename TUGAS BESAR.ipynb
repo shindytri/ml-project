{
 "cells": [
  {
   "cell_type": "code",
   "execution_count": 1,
   "metadata": {},
   "outputs": [],
   "source": [
    "import pickle\n",
    "import math\n",
    "import copy\n",
    "import numpy as np\n",
    "import pandas as pd\n",
    "import seaborn as sns\n",
    "import matplotlib.pyplot as plt\n",
    "from sklearn import svm \n",
    "from random import randint\n",
    "from sklearn.utils import resample\n",
    "from sklearn.model_selection import train_test_split\n",
    "from sklearn.preprocessing import StandardScaler, MinMaxScaler\n",
    "from sklearn.metrics import silhouette_score\n",
    "from mpl_toolkits.mplot3d import Axes3D"
   ]
  },
  {
   "cell_type": "markdown",
   "metadata": {},
   "source": [
    "# DATA PREPARATION"
   ]
  },
  {
   "cell_type": "markdown",
   "metadata": {},
   "source": [
    "## READ DATA\n",
    "\n",
    "\n",
    "\n"
   ]
  },
  {
   "cell_type": "code",
   "execution_count": 2,
   "metadata": {
    "scrolled": true
   },
   "outputs": [
    {
     "data": {
      "text/html": [
       "<div>\n",
       "<style scoped>\n",
       "    .dataframe tbody tr th:only-of-type {\n",
       "        vertical-align: middle;\n",
       "    }\n",
       "\n",
       "    .dataframe tbody tr th {\n",
       "        vertical-align: top;\n",
       "    }\n",
       "\n",
       "    .dataframe thead th {\n",
       "        text-align: right;\n",
       "    }\n",
       "</style>\n",
       "<table border=\"1\" class=\"dataframe\">\n",
       "  <thead>\n",
       "    <tr style=\"text-align: right;\">\n",
       "      <th></th>\n",
       "      <th>sofifa_id</th>\n",
       "      <th>player_url</th>\n",
       "      <th>short_name</th>\n",
       "      <th>long_name</th>\n",
       "      <th>age</th>\n",
       "      <th>dob</th>\n",
       "      <th>height_cm</th>\n",
       "      <th>weight_kg</th>\n",
       "      <th>nationality</th>\n",
       "      <th>club</th>\n",
       "      <th>...</th>\n",
       "      <th>lwb</th>\n",
       "      <th>ldm</th>\n",
       "      <th>cdm</th>\n",
       "      <th>rdm</th>\n",
       "      <th>rwb</th>\n",
       "      <th>lb</th>\n",
       "      <th>lcb</th>\n",
       "      <th>cb</th>\n",
       "      <th>rcb</th>\n",
       "      <th>rb</th>\n",
       "    </tr>\n",
       "  </thead>\n",
       "  <tbody>\n",
       "    <tr>\n",
       "      <th>0</th>\n",
       "      <td>158023</td>\n",
       "      <td>https://sofifa.com/player/158023/lionel-messi/...</td>\n",
       "      <td>L. Messi</td>\n",
       "      <td>Lionel Andrés Messi Cuccittini</td>\n",
       "      <td>32</td>\n",
       "      <td>1987-06-24</td>\n",
       "      <td>170</td>\n",
       "      <td>72</td>\n",
       "      <td>Argentina</td>\n",
       "      <td>FC Barcelona</td>\n",
       "      <td>...</td>\n",
       "      <td>68+2</td>\n",
       "      <td>66+2</td>\n",
       "      <td>66+2</td>\n",
       "      <td>66+2</td>\n",
       "      <td>68+2</td>\n",
       "      <td>63+2</td>\n",
       "      <td>52+2</td>\n",
       "      <td>52+2</td>\n",
       "      <td>52+2</td>\n",
       "      <td>63+2</td>\n",
       "    </tr>\n",
       "    <tr>\n",
       "      <th>1</th>\n",
       "      <td>20801</td>\n",
       "      <td>https://sofifa.com/player/20801/c-ronaldo-dos-...</td>\n",
       "      <td>Cristiano Ronaldo</td>\n",
       "      <td>Cristiano Ronaldo dos Santos Aveiro</td>\n",
       "      <td>34</td>\n",
       "      <td>1985-02-05</td>\n",
       "      <td>187</td>\n",
       "      <td>83</td>\n",
       "      <td>Portugal</td>\n",
       "      <td>Juventus</td>\n",
       "      <td>...</td>\n",
       "      <td>65+3</td>\n",
       "      <td>61+3</td>\n",
       "      <td>61+3</td>\n",
       "      <td>61+3</td>\n",
       "      <td>65+3</td>\n",
       "      <td>61+3</td>\n",
       "      <td>53+3</td>\n",
       "      <td>53+3</td>\n",
       "      <td>53+3</td>\n",
       "      <td>61+3</td>\n",
       "    </tr>\n",
       "    <tr>\n",
       "      <th>2</th>\n",
       "      <td>190871</td>\n",
       "      <td>https://sofifa.com/player/190871/neymar-da-sil...</td>\n",
       "      <td>Neymar Jr</td>\n",
       "      <td>Neymar da Silva Santos Junior</td>\n",
       "      <td>27</td>\n",
       "      <td>1992-02-05</td>\n",
       "      <td>175</td>\n",
       "      <td>68</td>\n",
       "      <td>Brazil</td>\n",
       "      <td>Paris Saint-Germain</td>\n",
       "      <td>...</td>\n",
       "      <td>66+3</td>\n",
       "      <td>61+3</td>\n",
       "      <td>61+3</td>\n",
       "      <td>61+3</td>\n",
       "      <td>66+3</td>\n",
       "      <td>61+3</td>\n",
       "      <td>46+3</td>\n",
       "      <td>46+3</td>\n",
       "      <td>46+3</td>\n",
       "      <td>61+3</td>\n",
       "    </tr>\n",
       "    <tr>\n",
       "      <th>3</th>\n",
       "      <td>200389</td>\n",
       "      <td>https://sofifa.com/player/200389/jan-oblak/20/...</td>\n",
       "      <td>J. Oblak</td>\n",
       "      <td>Jan Oblak</td>\n",
       "      <td>26</td>\n",
       "      <td>1993-01-07</td>\n",
       "      <td>188</td>\n",
       "      <td>87</td>\n",
       "      <td>Slovenia</td>\n",
       "      <td>Atlético Madrid</td>\n",
       "      <td>...</td>\n",
       "      <td>NaN</td>\n",
       "      <td>NaN</td>\n",
       "      <td>NaN</td>\n",
       "      <td>NaN</td>\n",
       "      <td>NaN</td>\n",
       "      <td>NaN</td>\n",
       "      <td>NaN</td>\n",
       "      <td>NaN</td>\n",
       "      <td>NaN</td>\n",
       "      <td>NaN</td>\n",
       "    </tr>\n",
       "    <tr>\n",
       "      <th>4</th>\n",
       "      <td>183277</td>\n",
       "      <td>https://sofifa.com/player/183277/eden-hazard/2...</td>\n",
       "      <td>E. Hazard</td>\n",
       "      <td>Eden Hazard</td>\n",
       "      <td>28</td>\n",
       "      <td>1991-01-07</td>\n",
       "      <td>175</td>\n",
       "      <td>74</td>\n",
       "      <td>Belgium</td>\n",
       "      <td>Real Madrid</td>\n",
       "      <td>...</td>\n",
       "      <td>66+3</td>\n",
       "      <td>63+3</td>\n",
       "      <td>63+3</td>\n",
       "      <td>63+3</td>\n",
       "      <td>66+3</td>\n",
       "      <td>61+3</td>\n",
       "      <td>49+3</td>\n",
       "      <td>49+3</td>\n",
       "      <td>49+3</td>\n",
       "      <td>61+3</td>\n",
       "    </tr>\n",
       "    <tr>\n",
       "      <th>...</th>\n",
       "      <td>...</td>\n",
       "      <td>...</td>\n",
       "      <td>...</td>\n",
       "      <td>...</td>\n",
       "      <td>...</td>\n",
       "      <td>...</td>\n",
       "      <td>...</td>\n",
       "      <td>...</td>\n",
       "      <td>...</td>\n",
       "      <td>...</td>\n",
       "      <td>...</td>\n",
       "      <td>...</td>\n",
       "      <td>...</td>\n",
       "      <td>...</td>\n",
       "      <td>...</td>\n",
       "      <td>...</td>\n",
       "      <td>...</td>\n",
       "      <td>...</td>\n",
       "      <td>...</td>\n",
       "      <td>...</td>\n",
       "      <td>...</td>\n",
       "    </tr>\n",
       "    <tr>\n",
       "      <th>18273</th>\n",
       "      <td>245006</td>\n",
       "      <td>https://sofifa.com/player/245006/shuai-shao/20...</td>\n",
       "      <td>Shao Shuai</td>\n",
       "      <td>邵帅</td>\n",
       "      <td>22</td>\n",
       "      <td>1997-03-10</td>\n",
       "      <td>186</td>\n",
       "      <td>79</td>\n",
       "      <td>China PR</td>\n",
       "      <td>Beijing Renhe FC</td>\n",
       "      <td>...</td>\n",
       "      <td>43+2</td>\n",
       "      <td>42+2</td>\n",
       "      <td>42+2</td>\n",
       "      <td>42+2</td>\n",
       "      <td>43+2</td>\n",
       "      <td>45+2</td>\n",
       "      <td>46+2</td>\n",
       "      <td>46+2</td>\n",
       "      <td>46+2</td>\n",
       "      <td>45+2</td>\n",
       "    </tr>\n",
       "    <tr>\n",
       "      <th>18274</th>\n",
       "      <td>250995</td>\n",
       "      <td>https://sofifa.com/player/250995/mingjie-xiao/...</td>\n",
       "      <td>Xiao Mingjie</td>\n",
       "      <td>Mingjie Xiao</td>\n",
       "      <td>22</td>\n",
       "      <td>1997-01-01</td>\n",
       "      <td>177</td>\n",
       "      <td>66</td>\n",
       "      <td>China PR</td>\n",
       "      <td>Shanghai SIPG FC</td>\n",
       "      <td>...</td>\n",
       "      <td>44+2</td>\n",
       "      <td>43+2</td>\n",
       "      <td>43+2</td>\n",
       "      <td>43+2</td>\n",
       "      <td>44+2</td>\n",
       "      <td>46+2</td>\n",
       "      <td>47+2</td>\n",
       "      <td>47+2</td>\n",
       "      <td>47+2</td>\n",
       "      <td>46+2</td>\n",
       "    </tr>\n",
       "    <tr>\n",
       "      <th>18275</th>\n",
       "      <td>252332</td>\n",
       "      <td>https://sofifa.com/player/252332/wei-zhang/20/...</td>\n",
       "      <td>Zhang Wei</td>\n",
       "      <td>张威</td>\n",
       "      <td>19</td>\n",
       "      <td>2000-05-16</td>\n",
       "      <td>186</td>\n",
       "      <td>75</td>\n",
       "      <td>China PR</td>\n",
       "      <td>Hebei China Fortune FC</td>\n",
       "      <td>...</td>\n",
       "      <td>47+2</td>\n",
       "      <td>49+2</td>\n",
       "      <td>49+2</td>\n",
       "      <td>49+2</td>\n",
       "      <td>47+2</td>\n",
       "      <td>47+2</td>\n",
       "      <td>49+2</td>\n",
       "      <td>49+2</td>\n",
       "      <td>49+2</td>\n",
       "      <td>47+2</td>\n",
       "    </tr>\n",
       "    <tr>\n",
       "      <th>18276</th>\n",
       "      <td>251110</td>\n",
       "      <td>https://sofifa.com/player/251110/haijian-wang/...</td>\n",
       "      <td>Wang Haijian</td>\n",
       "      <td>汪海健</td>\n",
       "      <td>18</td>\n",
       "      <td>2000-08-02</td>\n",
       "      <td>185</td>\n",
       "      <td>74</td>\n",
       "      <td>China PR</td>\n",
       "      <td>Shanghai Greenland Shenhua FC</td>\n",
       "      <td>...</td>\n",
       "      <td>48+2</td>\n",
       "      <td>48+2</td>\n",
       "      <td>48+2</td>\n",
       "      <td>48+2</td>\n",
       "      <td>48+2</td>\n",
       "      <td>48+2</td>\n",
       "      <td>49+2</td>\n",
       "      <td>49+2</td>\n",
       "      <td>49+2</td>\n",
       "      <td>48+2</td>\n",
       "    </tr>\n",
       "    <tr>\n",
       "      <th>18277</th>\n",
       "      <td>233449</td>\n",
       "      <td>https://sofifa.com/player/233449/ximing-pan/20...</td>\n",
       "      <td>Pan Ximing</td>\n",
       "      <td>潘喜明</td>\n",
       "      <td>26</td>\n",
       "      <td>1993-01-11</td>\n",
       "      <td>182</td>\n",
       "      <td>78</td>\n",
       "      <td>China PR</td>\n",
       "      <td>Hebei China Fortune FC</td>\n",
       "      <td>...</td>\n",
       "      <td>48+2</td>\n",
       "      <td>49+2</td>\n",
       "      <td>49+2</td>\n",
       "      <td>49+2</td>\n",
       "      <td>48+2</td>\n",
       "      <td>48+2</td>\n",
       "      <td>50+2</td>\n",
       "      <td>50+2</td>\n",
       "      <td>50+2</td>\n",
       "      <td>48+2</td>\n",
       "    </tr>\n",
       "  </tbody>\n",
       "</table>\n",
       "<p>18278 rows × 104 columns</p>\n",
       "</div>"
      ],
      "text/plain": [
       "       sofifa_id                                         player_url  \\\n",
       "0         158023  https://sofifa.com/player/158023/lionel-messi/...   \n",
       "1          20801  https://sofifa.com/player/20801/c-ronaldo-dos-...   \n",
       "2         190871  https://sofifa.com/player/190871/neymar-da-sil...   \n",
       "3         200389  https://sofifa.com/player/200389/jan-oblak/20/...   \n",
       "4         183277  https://sofifa.com/player/183277/eden-hazard/2...   \n",
       "...          ...                                                ...   \n",
       "18273     245006  https://sofifa.com/player/245006/shuai-shao/20...   \n",
       "18274     250995  https://sofifa.com/player/250995/mingjie-xiao/...   \n",
       "18275     252332  https://sofifa.com/player/252332/wei-zhang/20/...   \n",
       "18276     251110  https://sofifa.com/player/251110/haijian-wang/...   \n",
       "18277     233449  https://sofifa.com/player/233449/ximing-pan/20...   \n",
       "\n",
       "              short_name                            long_name  age  \\\n",
       "0               L. Messi       Lionel Andrés Messi Cuccittini   32   \n",
       "1      Cristiano Ronaldo  Cristiano Ronaldo dos Santos Aveiro   34   \n",
       "2              Neymar Jr        Neymar da Silva Santos Junior   27   \n",
       "3               J. Oblak                            Jan Oblak   26   \n",
       "4              E. Hazard                          Eden Hazard   28   \n",
       "...                  ...                                  ...  ...   \n",
       "18273         Shao Shuai                                   邵帅   22   \n",
       "18274       Xiao Mingjie                         Mingjie Xiao   22   \n",
       "18275          Zhang Wei                                   张威   19   \n",
       "18276       Wang Haijian                                  汪海健   18   \n",
       "18277         Pan Ximing                                  潘喜明   26   \n",
       "\n",
       "              dob  height_cm  weight_kg nationality  \\\n",
       "0      1987-06-24        170         72   Argentina   \n",
       "1      1985-02-05        187         83    Portugal   \n",
       "2      1992-02-05        175         68      Brazil   \n",
       "3      1993-01-07        188         87    Slovenia   \n",
       "4      1991-01-07        175         74     Belgium   \n",
       "...           ...        ...        ...         ...   \n",
       "18273  1997-03-10        186         79    China PR   \n",
       "18274  1997-01-01        177         66    China PR   \n",
       "18275  2000-05-16        186         75    China PR   \n",
       "18276  2000-08-02        185         74    China PR   \n",
       "18277  1993-01-11        182         78    China PR   \n",
       "\n",
       "                                club  ...   lwb   ldm   cdm   rdm   rwb    lb  \\\n",
       "0                       FC Barcelona  ...  68+2  66+2  66+2  66+2  68+2  63+2   \n",
       "1                           Juventus  ...  65+3  61+3  61+3  61+3  65+3  61+3   \n",
       "2                Paris Saint-Germain  ...  66+3  61+3  61+3  61+3  66+3  61+3   \n",
       "3                    Atlético Madrid  ...   NaN   NaN   NaN   NaN   NaN   NaN   \n",
       "4                        Real Madrid  ...  66+3  63+3  63+3  63+3  66+3  61+3   \n",
       "...                              ...  ...   ...   ...   ...   ...   ...   ...   \n",
       "18273               Beijing Renhe FC  ...  43+2  42+2  42+2  42+2  43+2  45+2   \n",
       "18274               Shanghai SIPG FC  ...  44+2  43+2  43+2  43+2  44+2  46+2   \n",
       "18275         Hebei China Fortune FC  ...  47+2  49+2  49+2  49+2  47+2  47+2   \n",
       "18276  Shanghai Greenland Shenhua FC  ...  48+2  48+2  48+2  48+2  48+2  48+2   \n",
       "18277         Hebei China Fortune FC  ...  48+2  49+2  49+2  49+2  48+2  48+2   \n",
       "\n",
       "        lcb    cb   rcb    rb  \n",
       "0      52+2  52+2  52+2  63+2  \n",
       "1      53+3  53+3  53+3  61+3  \n",
       "2      46+3  46+3  46+3  61+3  \n",
       "3       NaN   NaN   NaN   NaN  \n",
       "4      49+3  49+3  49+3  61+3  \n",
       "...     ...   ...   ...   ...  \n",
       "18273  46+2  46+2  46+2  45+2  \n",
       "18274  47+2  47+2  47+2  46+2  \n",
       "18275  49+2  49+2  49+2  47+2  \n",
       "18276  49+2  49+2  49+2  48+2  \n",
       "18277  50+2  50+2  50+2  48+2  \n",
       "\n",
       "[18278 rows x 104 columns]"
      ]
     },
     "execution_count": 2,
     "metadata": {},
     "output_type": "execute_result"
    }
   ],
   "source": [
    "df = pd.read_csv('Data/fifa20.csv')\n",
    "\n",
    "df"
   ]
  },
  {
   "cell_type": "markdown",
   "metadata": {},
   "source": [
    "## IMPUTE MISSING VALUE"
   ]
  },
  {
   "cell_type": "code",
   "execution_count": 3,
   "metadata": {},
   "outputs": [
    {
     "data": {
      "text/html": [
       "<div>\n",
       "<style scoped>\n",
       "    .dataframe tbody tr th:only-of-type {\n",
       "        vertical-align: middle;\n",
       "    }\n",
       "\n",
       "    .dataframe tbody tr th {\n",
       "        vertical-align: top;\n",
       "    }\n",
       "\n",
       "    .dataframe thead th {\n",
       "        text-align: right;\n",
       "    }\n",
       "</style>\n",
       "<table border=\"1\" class=\"dataframe\">\n",
       "  <thead>\n",
       "    <tr style=\"text-align: right;\">\n",
       "      <th></th>\n",
       "      <th>sofifa_id</th>\n",
       "      <th>player_url</th>\n",
       "      <th>short_name</th>\n",
       "      <th>long_name</th>\n",
       "      <th>age</th>\n",
       "      <th>dob</th>\n",
       "      <th>height_cm</th>\n",
       "      <th>weight_kg</th>\n",
       "      <th>nationality</th>\n",
       "      <th>club</th>\n",
       "      <th>...</th>\n",
       "      <th>lwb</th>\n",
       "      <th>ldm</th>\n",
       "      <th>cdm</th>\n",
       "      <th>rdm</th>\n",
       "      <th>rwb</th>\n",
       "      <th>lb</th>\n",
       "      <th>lcb</th>\n",
       "      <th>cb</th>\n",
       "      <th>rcb</th>\n",
       "      <th>rb</th>\n",
       "    </tr>\n",
       "  </thead>\n",
       "  <tbody>\n",
       "    <tr>\n",
       "      <th>0</th>\n",
       "      <td>158023</td>\n",
       "      <td>https://sofifa.com/player/158023/lionel-messi/...</td>\n",
       "      <td>L. Messi</td>\n",
       "      <td>Lionel Andrés Messi Cuccittini</td>\n",
       "      <td>32</td>\n",
       "      <td>1987-06-24</td>\n",
       "      <td>170</td>\n",
       "      <td>72</td>\n",
       "      <td>Argentina</td>\n",
       "      <td>FC Barcelona</td>\n",
       "      <td>...</td>\n",
       "      <td>68+2</td>\n",
       "      <td>66+2</td>\n",
       "      <td>66+2</td>\n",
       "      <td>66+2</td>\n",
       "      <td>68+2</td>\n",
       "      <td>63+2</td>\n",
       "      <td>52+2</td>\n",
       "      <td>52+2</td>\n",
       "      <td>52+2</td>\n",
       "      <td>63+2</td>\n",
       "    </tr>\n",
       "    <tr>\n",
       "      <th>1</th>\n",
       "      <td>20801</td>\n",
       "      <td>https://sofifa.com/player/20801/c-ronaldo-dos-...</td>\n",
       "      <td>Cristiano Ronaldo</td>\n",
       "      <td>Cristiano Ronaldo dos Santos Aveiro</td>\n",
       "      <td>34</td>\n",
       "      <td>1985-02-05</td>\n",
       "      <td>187</td>\n",
       "      <td>83</td>\n",
       "      <td>Portugal</td>\n",
       "      <td>Juventus</td>\n",
       "      <td>...</td>\n",
       "      <td>65+3</td>\n",
       "      <td>61+3</td>\n",
       "      <td>61+3</td>\n",
       "      <td>61+3</td>\n",
       "      <td>65+3</td>\n",
       "      <td>61+3</td>\n",
       "      <td>53+3</td>\n",
       "      <td>53+3</td>\n",
       "      <td>53+3</td>\n",
       "      <td>61+3</td>\n",
       "    </tr>\n",
       "    <tr>\n",
       "      <th>2</th>\n",
       "      <td>190871</td>\n",
       "      <td>https://sofifa.com/player/190871/neymar-da-sil...</td>\n",
       "      <td>Neymar Jr</td>\n",
       "      <td>Neymar da Silva Santos Junior</td>\n",
       "      <td>27</td>\n",
       "      <td>1992-02-05</td>\n",
       "      <td>175</td>\n",
       "      <td>68</td>\n",
       "      <td>Brazil</td>\n",
       "      <td>Paris Saint-Germain</td>\n",
       "      <td>...</td>\n",
       "      <td>66+3</td>\n",
       "      <td>61+3</td>\n",
       "      <td>61+3</td>\n",
       "      <td>61+3</td>\n",
       "      <td>66+3</td>\n",
       "      <td>61+3</td>\n",
       "      <td>46+3</td>\n",
       "      <td>46+3</td>\n",
       "      <td>46+3</td>\n",
       "      <td>61+3</td>\n",
       "    </tr>\n",
       "    <tr>\n",
       "      <th>3</th>\n",
       "      <td>200389</td>\n",
       "      <td>https://sofifa.com/player/200389/jan-oblak/20/...</td>\n",
       "      <td>J. Oblak</td>\n",
       "      <td>Jan Oblak</td>\n",
       "      <td>26</td>\n",
       "      <td>1993-01-07</td>\n",
       "      <td>188</td>\n",
       "      <td>87</td>\n",
       "      <td>Slovenia</td>\n",
       "      <td>Atlético Madrid</td>\n",
       "      <td>...</td>\n",
       "      <td>59+2</td>\n",
       "      <td>59+2</td>\n",
       "      <td>59+2</td>\n",
       "      <td>59+2</td>\n",
       "      <td>59+2</td>\n",
       "      <td>61+2</td>\n",
       "      <td>63+2</td>\n",
       "      <td>63+2</td>\n",
       "      <td>63+2</td>\n",
       "      <td>61+2</td>\n",
       "    </tr>\n",
       "    <tr>\n",
       "      <th>4</th>\n",
       "      <td>183277</td>\n",
       "      <td>https://sofifa.com/player/183277/eden-hazard/2...</td>\n",
       "      <td>E. Hazard</td>\n",
       "      <td>Eden Hazard</td>\n",
       "      <td>28</td>\n",
       "      <td>1991-01-07</td>\n",
       "      <td>175</td>\n",
       "      <td>74</td>\n",
       "      <td>Belgium</td>\n",
       "      <td>Real Madrid</td>\n",
       "      <td>...</td>\n",
       "      <td>66+3</td>\n",
       "      <td>63+3</td>\n",
       "      <td>63+3</td>\n",
       "      <td>63+3</td>\n",
       "      <td>66+3</td>\n",
       "      <td>61+3</td>\n",
       "      <td>49+3</td>\n",
       "      <td>49+3</td>\n",
       "      <td>49+3</td>\n",
       "      <td>61+3</td>\n",
       "    </tr>\n",
       "  </tbody>\n",
       "</table>\n",
       "<p>5 rows × 104 columns</p>\n",
       "</div>"
      ],
      "text/plain": [
       "   sofifa_id                                         player_url  \\\n",
       "0     158023  https://sofifa.com/player/158023/lionel-messi/...   \n",
       "1      20801  https://sofifa.com/player/20801/c-ronaldo-dos-...   \n",
       "2     190871  https://sofifa.com/player/190871/neymar-da-sil...   \n",
       "3     200389  https://sofifa.com/player/200389/jan-oblak/20/...   \n",
       "4     183277  https://sofifa.com/player/183277/eden-hazard/2...   \n",
       "\n",
       "          short_name                            long_name  age         dob  \\\n",
       "0           L. Messi       Lionel Andrés Messi Cuccittini   32  1987-06-24   \n",
       "1  Cristiano Ronaldo  Cristiano Ronaldo dos Santos Aveiro   34  1985-02-05   \n",
       "2          Neymar Jr        Neymar da Silva Santos Junior   27  1992-02-05   \n",
       "3           J. Oblak                            Jan Oblak   26  1993-01-07   \n",
       "4          E. Hazard                          Eden Hazard   28  1991-01-07   \n",
       "\n",
       "   height_cm  weight_kg nationality                 club  ...   lwb   ldm  \\\n",
       "0        170         72   Argentina         FC Barcelona  ...  68+2  66+2   \n",
       "1        187         83    Portugal             Juventus  ...  65+3  61+3   \n",
       "2        175         68      Brazil  Paris Saint-Germain  ...  66+3  61+3   \n",
       "3        188         87    Slovenia      Atlético Madrid  ...  59+2  59+2   \n",
       "4        175         74     Belgium          Real Madrid  ...  66+3  63+3   \n",
       "\n",
       "    cdm   rdm   rwb    lb   lcb    cb   rcb    rb  \n",
       "0  66+2  66+2  68+2  63+2  52+2  52+2  52+2  63+2  \n",
       "1  61+3  61+3  65+3  61+3  53+3  53+3  53+3  61+3  \n",
       "2  61+3  61+3  66+3  61+3  46+3  46+3  46+3  61+3  \n",
       "3  59+2  59+2  59+2  61+2  63+2  63+2  63+2  61+2  \n",
       "4  63+3  63+3  66+3  61+3  49+3  49+3  49+3  61+3  \n",
       "\n",
       "[5 rows x 104 columns]"
      ]
     },
     "execution_count": 3,
     "metadata": {},
     "output_type": "execute_result"
    }
   ],
   "source": [
    "df.fillna(df.median(), inplace=True)  # NUMERIC DATA\n",
    "df = df.fillna(df.mode().iloc[0])     # STRING DATA\n",
    "\n",
    "df.head()"
   ]
  },
  {
   "cell_type": "code",
   "execution_count": 4,
   "metadata": {},
   "outputs": [],
   "source": [
    "# Save data\n",
    "df.to_csv(\"Data/df.csv\", sep=',',index=False, encoding='utf-8')"
   ]
  },
  {
   "cell_type": "markdown",
   "metadata": {},
   "source": [
    "## CHOOSE ATTRIBUTES"
   ]
  },
  {
   "cell_type": "code",
   "execution_count": 5,
   "metadata": {},
   "outputs": [
    {
     "data": {
      "text/html": [
       "<div>\n",
       "<style scoped>\n",
       "    .dataframe tbody tr th:only-of-type {\n",
       "        vertical-align: middle;\n",
       "    }\n",
       "\n",
       "    .dataframe tbody tr th {\n",
       "        vertical-align: top;\n",
       "    }\n",
       "\n",
       "    .dataframe thead th {\n",
       "        text-align: right;\n",
       "    }\n",
       "</style>\n",
       "<table border=\"1\" class=\"dataframe\">\n",
       "  <thead>\n",
       "    <tr style=\"text-align: right;\">\n",
       "      <th></th>\n",
       "      <th>potential</th>\n",
       "      <th>pace</th>\n",
       "      <th>physic</th>\n",
       "      <th>power_stamina</th>\n",
       "      <th>passing</th>\n",
       "      <th>shooting</th>\n",
       "      <th>defending</th>\n",
       "    </tr>\n",
       "  </thead>\n",
       "  <tbody>\n",
       "    <tr>\n",
       "      <th>0</th>\n",
       "      <td>94</td>\n",
       "      <td>87.0</td>\n",
       "      <td>66.0</td>\n",
       "      <td>75</td>\n",
       "      <td>92.0</td>\n",
       "      <td>92.0</td>\n",
       "      <td>39.0</td>\n",
       "    </tr>\n",
       "    <tr>\n",
       "      <th>1</th>\n",
       "      <td>93</td>\n",
       "      <td>90.0</td>\n",
       "      <td>78.0</td>\n",
       "      <td>85</td>\n",
       "      <td>82.0</td>\n",
       "      <td>93.0</td>\n",
       "      <td>35.0</td>\n",
       "    </tr>\n",
       "    <tr>\n",
       "      <th>2</th>\n",
       "      <td>92</td>\n",
       "      <td>91.0</td>\n",
       "      <td>58.0</td>\n",
       "      <td>81</td>\n",
       "      <td>87.0</td>\n",
       "      <td>85.0</td>\n",
       "      <td>32.0</td>\n",
       "    </tr>\n",
       "    <tr>\n",
       "      <th>3</th>\n",
       "      <td>93</td>\n",
       "      <td>69.0</td>\n",
       "      <td>66.0</td>\n",
       "      <td>41</td>\n",
       "      <td>58.0</td>\n",
       "      <td>54.0</td>\n",
       "      <td>56.0</td>\n",
       "    </tr>\n",
       "    <tr>\n",
       "      <th>4</th>\n",
       "      <td>91</td>\n",
       "      <td>91.0</td>\n",
       "      <td>66.0</td>\n",
       "      <td>84</td>\n",
       "      <td>86.0</td>\n",
       "      <td>83.0</td>\n",
       "      <td>35.0</td>\n",
       "    </tr>\n",
       "  </tbody>\n",
       "</table>\n",
       "</div>"
      ],
      "text/plain": [
       "   potential  pace  physic  power_stamina  passing  shooting  defending\n",
       "0         94  87.0    66.0             75     92.0      92.0       39.0\n",
       "1         93  90.0    78.0             85     82.0      93.0       35.0\n",
       "2         92  91.0    58.0             81     87.0      85.0       32.0\n",
       "3         93  69.0    66.0             41     58.0      54.0       56.0\n",
       "4         91  91.0    66.0             84     86.0      83.0       35.0"
      ]
     },
     "execution_count": 5,
     "metadata": {},
     "output_type": "execute_result"
    }
   ],
   "source": [
    "# CHOOSEN ATRIBUTES : POTENTIAL(label), PACE, PHYSIC, PASSING, SHOOTING, DEFENDING, POWER_STAMINA\n",
    "data = pd.DataFrame(columns = ['potential', 'pace', 'physic','power_stamina', 'passing', 'shooting', 'defending'])\n",
    "data['potential'] = df['potential']\n",
    "data['pace'] = df['pace']\n",
    "data['physic'] = df['physic']\n",
    "data['passing'] = df['passing']\n",
    "data['shooting'] = df['shooting']\n",
    "data['defending'] = df['defending']\n",
    "data['power_stamina'] = df['power_stamina']\n",
    "data.head()"
   ]
  },
  {
   "cell_type": "markdown",
   "metadata": {},
   "source": [
    "## BINNING ATTRIBUTES POTENTIAL "
   ]
  },
  {
   "cell_type": "code",
   "execution_count": 6,
   "metadata": {},
   "outputs": [],
   "source": [
    "cut_labels = ['low', 'average', 'high']\n",
    "data['potential'] = pd.cut(data['potential'], bins=3, labels=cut_labels)"
   ]
  },
  {
   "cell_type": "code",
   "execution_count": 7,
   "metadata": {
    "scrolled": true
   },
   "outputs": [
    {
     "data": {
      "text/html": [
       "<div>\n",
       "<style scoped>\n",
       "    .dataframe tbody tr th:only-of-type {\n",
       "        vertical-align: middle;\n",
       "    }\n",
       "\n",
       "    .dataframe tbody tr th {\n",
       "        vertical-align: top;\n",
       "    }\n",
       "\n",
       "    .dataframe thead th {\n",
       "        text-align: right;\n",
       "    }\n",
       "</style>\n",
       "<table border=\"1\" class=\"dataframe\">\n",
       "  <thead>\n",
       "    <tr style=\"text-align: right;\">\n",
       "      <th></th>\n",
       "      <th>potential</th>\n",
       "      <th>pace</th>\n",
       "      <th>physic</th>\n",
       "      <th>power_stamina</th>\n",
       "      <th>passing</th>\n",
       "      <th>shooting</th>\n",
       "      <th>defending</th>\n",
       "    </tr>\n",
       "  </thead>\n",
       "  <tbody>\n",
       "    <tr>\n",
       "      <th>0</th>\n",
       "      <td>high</td>\n",
       "      <td>87.0</td>\n",
       "      <td>66.0</td>\n",
       "      <td>75</td>\n",
       "      <td>92.0</td>\n",
       "      <td>92.0</td>\n",
       "      <td>39.0</td>\n",
       "    </tr>\n",
       "    <tr>\n",
       "      <th>1</th>\n",
       "      <td>high</td>\n",
       "      <td>90.0</td>\n",
       "      <td>78.0</td>\n",
       "      <td>85</td>\n",
       "      <td>82.0</td>\n",
       "      <td>93.0</td>\n",
       "      <td>35.0</td>\n",
       "    </tr>\n",
       "    <tr>\n",
       "      <th>2</th>\n",
       "      <td>high</td>\n",
       "      <td>91.0</td>\n",
       "      <td>58.0</td>\n",
       "      <td>81</td>\n",
       "      <td>87.0</td>\n",
       "      <td>85.0</td>\n",
       "      <td>32.0</td>\n",
       "    </tr>\n",
       "    <tr>\n",
       "      <th>3</th>\n",
       "      <td>high</td>\n",
       "      <td>69.0</td>\n",
       "      <td>66.0</td>\n",
       "      <td>41</td>\n",
       "      <td>58.0</td>\n",
       "      <td>54.0</td>\n",
       "      <td>56.0</td>\n",
       "    </tr>\n",
       "    <tr>\n",
       "      <th>4</th>\n",
       "      <td>high</td>\n",
       "      <td>91.0</td>\n",
       "      <td>66.0</td>\n",
       "      <td>84</td>\n",
       "      <td>86.0</td>\n",
       "      <td>83.0</td>\n",
       "      <td>35.0</td>\n",
       "    </tr>\n",
       "  </tbody>\n",
       "</table>\n",
       "</div>"
      ],
      "text/plain": [
       "  potential  pace  physic  power_stamina  passing  shooting  defending\n",
       "0      high  87.0    66.0             75     92.0      92.0       39.0\n",
       "1      high  90.0    78.0             85     82.0      93.0       35.0\n",
       "2      high  91.0    58.0             81     87.0      85.0       32.0\n",
       "3      high  69.0    66.0             41     58.0      54.0       56.0\n",
       "4      high  91.0    66.0             84     86.0      83.0       35.0"
      ]
     },
     "execution_count": 7,
     "metadata": {},
     "output_type": "execute_result"
    }
   ],
   "source": [
    "data.head()"
   ]
  },
  {
   "cell_type": "markdown",
   "metadata": {},
   "source": [
    "## FINDING OUTLIER"
   ]
  },
  {
   "cell_type": "code",
   "execution_count": 8,
   "metadata": {},
   "outputs": [
    {
     "data": {
      "text/plain": [
       "count    18278.000000\n",
       "mean        67.845607\n",
       "std         10.657660\n",
       "min         24.000000\n",
       "25%         63.000000\n",
       "50%         69.000000\n",
       "75%         74.000000\n",
       "max         96.000000\n",
       "Name: pace, dtype: float64"
      ]
     },
     "execution_count": 8,
     "metadata": {},
     "output_type": "execute_result"
    },
    {
     "data": {
      "image/png": "[encoded data removed]",
      "text/plain": [
       "<Figure size 432x288 with 1 Axes>"
      ]
     },
     "metadata": {
      "needs_background": "light"
     },
     "output_type": "display_data"
    }
   ],
   "source": [
    "sns.boxplot(data[\"pace\"])\n",
    "data['pace'].describe()"
   ]
  },
  {
   "cell_type": "code",
   "execution_count": 9,
   "metadata": {},
   "outputs": [
    {
     "data": {
      "text/plain": [
       "count    18278.000000\n",
       "mean        65.001805\n",
       "std          9.207275\n",
       "min         27.000000\n",
       "25%         60.000000\n",
       "50%         66.000000\n",
       "75%         71.000000\n",
       "max         90.000000\n",
       "Name: physic, dtype: float64"
      ]
     },
     "execution_count": 9,
     "metadata": {},
     "output_type": "execute_result"
    },
    {
     "data": {
      "image/png": "[encoded data removed]",
      "text/plain": [
       "<Figure size 432x288 with 1 Axes>"
      ]
     },
     "metadata": {
      "needs_background": "light"
     },
     "output_type": "display_data"
    }
   ],
   "source": [
    "sns.boxplot(data[\"physic\"])\n",
    "data['physic'].describe()"
   ]
  },
  {
   "cell_type": "code",
   "execution_count": 10,
   "metadata": {
    "scrolled": true
   },
   "outputs": [
    {
     "data": {
      "text/plain": [
       "count    18278.000000\n",
       "mean        62.889485\n",
       "std         16.017954\n",
       "min         12.000000\n",
       "25%         56.000000\n",
       "50%         66.000000\n",
       "75%         74.000000\n",
       "max         97.000000\n",
       "Name: power_stamina, dtype: float64"
      ]
     },
     "execution_count": 10,
     "metadata": {},
     "output_type": "execute_result"
    },
    {
     "data": {
      "image/png": "[encoded data removed]",
      "text/plain": [
       "<Figure size 432x288 with 1 Axes>"
      ]
     },
     "metadata": {
      "needs_background": "light"
     },
     "output_type": "display_data"
    }
   ],
   "source": [
    "sns.boxplot(data[\"power_stamina\"])\n",
    "data['power_stamina'].describe()"
   ]
  },
  {
   "cell_type": "code",
   "execution_count": 11,
   "metadata": {},
   "outputs": [
    {
     "data": {
      "text/plain": [
       "count    18278.000000\n",
       "mean        57.319127\n",
       "std          9.813993\n",
       "min         24.000000\n",
       "25%         52.000000\n",
       "50%         58.000000\n",
       "75%         63.000000\n",
       "max         92.000000\n",
       "Name: passing, dtype: float64"
      ]
     },
     "execution_count": 11,
     "metadata": {},
     "output_type": "execute_result"
    },
    {
     "data": {
      "image/png": "[encoded data removed]",
      "text/plain": [
       "<Figure size 432x288 with 1 Axes>"
      ]
     },
     "metadata": {
      "needs_background": "light"
     },
     "output_type": "display_data"
    }
   ],
   "source": [
    "sns.boxplot(data[\"passing\"])\n",
    "data['passing'].describe()"
   ]
  },
  {
   "cell_type": "code",
   "execution_count": 12,
   "metadata": {
    "scrolled": true
   },
   "outputs": [
    {
     "data": {
      "text/plain": [
       "count    18278.000000\n",
       "mean        52.487854\n",
       "std         13.235769\n",
       "min         15.000000\n",
       "25%         44.000000\n",
       "50%         54.000000\n",
       "75%         62.000000\n",
       "max         93.000000\n",
       "Name: shooting, dtype: float64"
      ]
     },
     "execution_count": 12,
     "metadata": {},
     "output_type": "execute_result"
    },
    {
     "data": {
      "image/png": "[encoded data removed]",
      "text/plain": [
       "<Figure size 432x288 with 1 Axes>"
      ]
     },
     "metadata": {
      "needs_background": "light"
     },
     "output_type": "display_data"
    }
   ],
   "source": [
    "sns.boxplot(data[\"shooting\"])\n",
    "data['shooting'].describe()"
   ]
  },
  {
   "cell_type": "code",
   "execution_count": 13,
   "metadata": {},
   "outputs": [
    {
     "data": {
      "text/plain": [
       "count    18278.000000\n",
       "mean        52.048802\n",
       "std         15.541085\n",
       "min         15.000000\n",
       "25%         39.000000\n",
       "50%         56.000000\n",
       "75%         64.000000\n",
       "max         90.000000\n",
       "Name: defending, dtype: float64"
      ]
     },
     "execution_count": 13,
     "metadata": {},
     "output_type": "execute_result"
    },
    {
     "data": {
      "image/png": "[encoded data removed]",
      "text/plain": [
       "<Figure size 432x288 with 1 Axes>"
      ]
     },
     "metadata": {
      "needs_background": "light"
     },
     "output_type": "display_data"
    }
   ],
   "source": [
    "sns.boxplot(data[\"defending\"])\n",
    "data['defending'].describe()"
   ]
  },
  {
   "cell_type": "markdown",
   "metadata": {},
   "source": [
    "## SCALING DATA "
   ]
  },
  {
   "cell_type": "code",
   "execution_count": 14,
   "metadata": {
    "scrolled": true
   },
   "outputs": [
    {
     "name": "stderr",
     "output_type": "stream",
     "text": [
      "E:\\Anaconda3\\lib\\site-packages\\sklearn\\preprocessing\\data.py:334: DataConversionWarning: Data with input dtype int64, float64 were all converted to float64 by MinMaxScaler.\n",
      "  return self.partial_fit(X, y)\n"
     ]
    },
    {
     "data": {
      "text/html": [
       "<div>\n",
       "<style scoped>\n",
       "    .dataframe tbody tr th:only-of-type {\n",
       "        vertical-align: middle;\n",
       "    }\n",
       "\n",
       "    .dataframe tbody tr th {\n",
       "        vertical-align: top;\n",
       "    }\n",
       "\n",
       "    .dataframe thead th {\n",
       "        text-align: right;\n",
       "    }\n",
       "</style>\n",
       "<table border=\"1\" class=\"dataframe\">\n",
       "  <thead>\n",
       "    <tr style=\"text-align: right;\">\n",
       "      <th></th>\n",
       "      <th>potential</th>\n",
       "      <th>pace</th>\n",
       "      <th>physic</th>\n",
       "      <th>power_stamina</th>\n",
       "      <th>passing</th>\n",
       "      <th>shooting</th>\n",
       "      <th>defending</th>\n",
       "    </tr>\n",
       "  </thead>\n",
       "  <tbody>\n",
       "    <tr>\n",
       "      <th>0</th>\n",
       "      <td>high</td>\n",
       "      <td>0.875000</td>\n",
       "      <td>0.619048</td>\n",
       "      <td>0.741176</td>\n",
       "      <td>1.000000</td>\n",
       "      <td>0.987179</td>\n",
       "      <td>0.320000</td>\n",
       "    </tr>\n",
       "    <tr>\n",
       "      <th>1</th>\n",
       "      <td>high</td>\n",
       "      <td>0.916667</td>\n",
       "      <td>0.809524</td>\n",
       "      <td>0.858824</td>\n",
       "      <td>0.852941</td>\n",
       "      <td>1.000000</td>\n",
       "      <td>0.266667</td>\n",
       "    </tr>\n",
       "    <tr>\n",
       "      <th>2</th>\n",
       "      <td>high</td>\n",
       "      <td>0.930556</td>\n",
       "      <td>0.492063</td>\n",
       "      <td>0.811765</td>\n",
       "      <td>0.926471</td>\n",
       "      <td>0.897436</td>\n",
       "      <td>0.226667</td>\n",
       "    </tr>\n",
       "    <tr>\n",
       "      <th>3</th>\n",
       "      <td>high</td>\n",
       "      <td>0.625000</td>\n",
       "      <td>0.619048</td>\n",
       "      <td>0.341176</td>\n",
       "      <td>0.500000</td>\n",
       "      <td>0.500000</td>\n",
       "      <td>0.546667</td>\n",
       "    </tr>\n",
       "    <tr>\n",
       "      <th>4</th>\n",
       "      <td>high</td>\n",
       "      <td>0.930556</td>\n",
       "      <td>0.619048</td>\n",
       "      <td>0.847059</td>\n",
       "      <td>0.911765</td>\n",
       "      <td>0.871795</td>\n",
       "      <td>0.266667</td>\n",
       "    </tr>\n",
       "  </tbody>\n",
       "</table>\n",
       "</div>"
      ],
      "text/plain": [
       "  potential      pace    physic  power_stamina   passing  shooting  defending\n",
       "0      high  0.875000  0.619048       0.741176  1.000000  0.987179   0.320000\n",
       "1      high  0.916667  0.809524       0.858824  0.852941  1.000000   0.266667\n",
       "2      high  0.930556  0.492063       0.811765  0.926471  0.897436   0.226667\n",
       "3      high  0.625000  0.619048       0.341176  0.500000  0.500000   0.546667\n",
       "4      high  0.930556  0.619048       0.847059  0.911765  0.871795   0.266667"
      ]
     },
     "execution_count": 14,
     "metadata": {},
     "output_type": "execute_result"
    }
   ],
   "source": [
    "# Initialise the Scaler \n",
    "scaler = MinMaxScaler() \n",
    "  \n",
    "# To scale data for experiment 1\n",
    "data.iloc[0:len(data),[1,2,3]] = scaler.fit_transform(data.iloc[0:len(data),[1,2,3]])\n",
    "\n",
    "# To scale data for experimen 2\n",
    "data.iloc[0:len(data),[4,5,6]] = scaler.fit_transform(data.iloc[0:len(data),[4,5,6]])\n",
    "\n",
    "data.head()"
   ]
  },
  {
   "cell_type": "code",
   "execution_count": 15,
   "metadata": {},
   "outputs": [],
   "source": [
    "# Save data\n",
    "data.to_csv(\"Data/data.csv\", sep=',',index=False, encoding='utf-8')"
   ]
  },
  {
   "cell_type": "markdown",
   "metadata": {},
   "source": [
    "# CLUSTERING"
   ]
  },
  {
   "cell_type": "markdown",
   "metadata": {},
   "source": [
    "## CLUSRTERING K=2"
   ]
  },
  {
   "cell_type": "code",
   "execution_count": 16,
   "metadata": {},
   "outputs": [],
   "source": [
    "def getParameter(row):\n",
    "    return [row['physic'],row['power_stamina'],0]\n",
    "\n",
    "def getParameter0(row):\n",
    "    return [row['shooting'],row['defending'],0]\n",
    "\n",
    "def getParameter1(row):\n",
    "    return [row['pace'],row['physic'],row['power_stamina'],0]\n",
    "\n",
    "def getParameter2(row):\n",
    "    return [row['passing'],row['shooting'],row['defending'],0]\n",
    "\n",
    "silhouette_scores = []"
   ]
  },
  {
   "cell_type": "code",
   "execution_count": 17,
   "metadata": {},
   "outputs": [],
   "source": [
    "# FUNCTION FOR 2 ATTRIBUTES\n",
    "def getEuclideanK2(row, c1, c2):\n",
    "    euc1 = math.sqrt((row[0]-c1[0])**2 + (row[1]-c1[1])**2)\n",
    "    euc2 = math.sqrt((row[0]-c2[0])**2 + (row[1]-c2[1])**2)\n",
    "    return euc1, euc2\n",
    "\n",
    "def getClusterK2(euc1, euc2):\n",
    "    near = min(euc1, euc2)\n",
    "    if euc1 == near:\n",
    "        return 1\n",
    "    elif euc2 == near:\n",
    "        return 2\n",
    "    \n",
    "def getNewCentroidK2(parameter):\n",
    "    sum1 = [0,0]\n",
    "    sum2 = [0,0]\n",
    "    count1 = 0\n",
    "    count2 = 0\n",
    "    for i in parameter:\n",
    "        if i[2] == 1:\n",
    "            sum1[0] += i[0]\n",
    "            sum1[1] += i[1]\n",
    "            count1 += 1\n",
    "        elif i[2] == 2:\n",
    "            sum2[0] += i[0]\n",
    "            sum2[1] += i[1]\n",
    "            count2 += 1\n",
    "          \n",
    "    c1 = [sum1[0]/count1, sum1[1]/count1]\n",
    "    c2 = [sum2[0]/count2, sum2[1]/count2]\n",
    "    \n",
    "    return c1, c2"
   ]
  },
  {
   "cell_type": "markdown",
   "metadata": {},
   "source": [
    "### ATTRIBUTES : PHYSIC, POWER STAMINA"
   ]
  },
  {
   "cell_type": "code",
   "execution_count": 18,
   "metadata": {},
   "outputs": [
    {
     "name": "stdout",
     "output_type": "stream",
     "text": [
      "Silhoutte Score | K = 2 and Attributes = Physic, Power Stamina\n",
      ">>> 0.4534536326859809\n"
     ]
    }
   ],
   "source": [
    "parameter = data.apply(getParameter, axis=1)\n",
    "\n",
    "idxc1 = randint(0,len(parameter))\n",
    "idxc2 = randint(0,len(parameter))\n",
    "while idxc2 == idxc1:\n",
    "    idxc2 = randint(0,len(parameter))\n",
    "\n",
    "c1_1 = parameter[idxc1][0:2]\n",
    "c2_1 = parameter[idxc2][0:2]\n",
    "\n",
    "while True:\n",
    "    for i in parameter:\n",
    "        euc1, euc2 = getEuclideanK2(i, c1_1, c2_1)\n",
    "        i[2] = getClusterK2(euc1, euc2)\n",
    "    prev_c1 = copy.deepcopy(c1_1)\n",
    "    prev_c2 = copy.deepcopy(c2_1)\n",
    "    \n",
    "    c1_1, c2_1 = getNewCentroidK2(parameter)\n",
    "    if prev_c1 == c1_1 and prev_c2 == c2_1:\n",
    "        break\n",
    "\n",
    "att_1 = []\n",
    "cluster_1 = []\n",
    "att1_1_1 = []\n",
    "att1_2_1 = []\n",
    "\n",
    "att2_1_1 = []\n",
    "att2_2_1 = []\n",
    "\n",
    "for i in parameter:\n",
    "    att_1.append([i[0],i[1]])\n",
    "    cluster_1.append(i[2])\n",
    "    if i[2] == 1: \n",
    "        att1_1_1.append(i[0]) \n",
    "        att1_2_1.append(i[1]) \n",
    "    else:\n",
    "        att2_1_1.append(i[0])\n",
    "        att2_2_1.append(i[1])\n",
    "        \n",
    "score_1 = silhouette_score(att_1, cluster_1)\n",
    "print(\"Silhoutte Score | K = 2 and Attributes = Physic, Power Stamina\")\n",
    "print(\">>>\",score_1)\n",
    "\n",
    "silhouette_scores.append({'K':2,'Attributes':'Physic, Power Stamina','Silhouette Score':score_1})"
   ]
  },
  {
   "cell_type": "code",
   "execution_count": 19,
   "metadata": {},
   "outputs": [
    {
     "data": {
      "image/png": "[encoded data removed]",
      "text/plain": [
       "<Figure size 432x288 with 1 Axes>"
      ]
     },
     "metadata": {
      "needs_background": "light"
     },
     "output_type": "display_data"
    }
   ],
   "source": [
    "# VISUALISASI DATA YANG DAPAT LABEL 1\n",
    "plt.scatter(att1_1_1,att1_2_1,color='green', marker='.', label='Cluster 1')\n",
    "plt.scatter(c1_1[0],c1_1[1],color='black',marker='o')\n",
    "\n",
    "# VISUALISASI DATA YANG DAPAT LABEL 2\n",
    "plt.scatter(att2_1_1, att2_2_1,color='yellow', marker='.', label='Cluster 2')\n",
    "plt.scatter(c2_1[0],c2_1[1],color='black',marker='o')\n",
    "\n",
    "\n",
    "plt.xlabel('Physic')\n",
    "plt.ylabel('Power Stamina')\n",
    "\n",
    "plt.legend()\n",
    "\n",
    "plt.show()"
   ]
  },
  {
   "cell_type": "markdown",
   "metadata": {},
   "source": [
    "## Attributes : Shooting, Defending"
   ]
  },
  {
   "cell_type": "code",
   "execution_count": 20,
   "metadata": {},
   "outputs": [
    {
     "name": "stdout",
     "output_type": "stream",
     "text": [
      "Silhoutte Score | K = 2 and Attributes = Shooting, Defending\n",
      ">>> 0.5087231580285517\n"
     ]
    }
   ],
   "source": [
    "parameter = data.apply(getParameter0, axis=1)\n",
    "\n",
    "idxc1 = randint(0,len(parameter))\n",
    "idxc2 = randint(0,len(parameter))\n",
    "while idxc2 == idxc1:\n",
    "    idxc2 = randint(0,len(parameter))\n",
    "\n",
    "c1_2 = parameter[idxc1][0:2]\n",
    "c2_2 = parameter[idxc2][0:2]\n",
    "\n",
    "while True:\n",
    "    for i in parameter:\n",
    "        euc1, euc2 = getEuclideanK2(i, c1_2, c2_2)\n",
    "        i[2] = getClusterK2(euc1, euc2)\n",
    "    prev_c1 = copy.deepcopy(c1_2)\n",
    "    prev_c2 = copy.deepcopy(c2_2)\n",
    "    \n",
    "    c1_2, c2_2 = getNewCentroidK2(parameter)\n",
    "    if prev_c1 == c1_2 and prev_c2 == c2_2:\n",
    "        break\n",
    "\n",
    "att_2 = []\n",
    "cluster_2 = []\n",
    "att1_1_2 = []\n",
    "att1_2_2 = []\n",
    "\n",
    "att2_1_2 = []\n",
    "att2_2_2 = []\n",
    "\n",
    "for i in parameter:\n",
    "    att_2.append([i[0],i[1]])\n",
    "    cluster_2.append(i[2])\n",
    "    if i[2] == 1: \n",
    "        att1_1_2.append(i[0]) \n",
    "        att1_2_2.append(i[1]) \n",
    "    else:\n",
    "        att2_1_2.append(i[0])\n",
    "        att2_2_2.append(i[1])\n",
    "        \n",
    "score_2 = silhouette_score(att_2, cluster_2)\n",
    "print(\"Silhoutte Score | K = 2 and Attributes = Shooting, Defending\")\n",
    "print(\">>>\",score_2)\n",
    "\n",
    "silhouette_scores.append({'K':2,'Attributes':'Shooting, Defending','Silhouette Score':score_2})"
   ]
  },
  {
   "cell_type": "code",
   "execution_count": 21,
   "metadata": {},
   "outputs": [
    {
     "data": {
      "image/png": "[encoded data removed]",
      "text/plain": [
       "<Figure size 432x288 with 1 Axes>"
      ]
     },
     "metadata": {
      "needs_background": "light"
     },
     "output_type": "display_data"
    }
   ],
   "source": [
    "# VISUALISASI DATA YANG DAPAT LABEL 1\n",
    "plt.scatter(att1_1_2,att1_2_2,color='green', marker='.', label='Cluster 1')\n",
    "plt.scatter(c1_2[0],c1_2[1],color='black',marker='o')\n",
    "\n",
    "# VISUALISASI DATA YANG DAPAT LABEL 2\n",
    "plt.scatter(att2_1_2, att2_2_2,color='yellow', marker='.', label='Cluster 2')\n",
    "plt.scatter(c2_2[0],c2_2[1],color='black',marker='o')\n",
    "\n",
    "\n",
    "plt.xlabel('Shooting')\n",
    "plt.ylabel('Defending')\n",
    "\n",
    "plt.legend()\n",
    "\n",
    "plt.show()"
   ]
  },
  {
   "cell_type": "code",
   "execution_count": 22,
   "metadata": {},
   "outputs": [],
   "source": [
    "# FUNCTION FOR 3 ATTRIBUTES\n",
    "def getEuclideanK2(row, c1, c2):\n",
    "    euc1 = math.sqrt((row[0]-c1[0])**2 + (row[1]-c1[1])**2 + (row[2]-c1[2])**2)\n",
    "    euc2 = math.sqrt((row[0]-c2[0])**2 + (row[1]-c2[1])**2 + (row[2]-c2[2])**2)\n",
    "    return euc1, euc2\n",
    "\n",
    "def getClusterK2(euc1, euc2):\n",
    "    near = min(euc1, euc2)\n",
    "    if euc1 == near:\n",
    "        return 1\n",
    "    elif euc2 == near:\n",
    "        return 2\n",
    "    \n",
    "def getNewCentroidK2(parameter):\n",
    "    sum1 = [0,0,0]\n",
    "    sum2 = [0,0,0]\n",
    "    count1 = 0\n",
    "    count2 = 0\n",
    "    for i in parameter:\n",
    "        if i[3] == 1:\n",
    "            sum1[0] += i[0]\n",
    "            sum1[1] += i[1]\n",
    "            sum1[2] += i[2]\n",
    "            count1 += 1\n",
    "        elif i[3] == 2:\n",
    "            sum2[0] += i[0]\n",
    "            sum2[1] += i[1]\n",
    "            sum2[2] += i[2]\n",
    "            count2 += 1\n",
    "          \n",
    "    c1 = [sum1[0]/count1, sum1[1]/count1, sum1[2]/count1]\n",
    "    c2 = [sum2[0]/count2, sum2[1]/count2, sum2[2]/count2]\n",
    "    \n",
    "    return c1, c2"
   ]
  },
  {
   "cell_type": "markdown",
   "metadata": {},
   "source": [
    "### Fitur : Pace, Physic, Power Stamina"
   ]
  },
  {
   "cell_type": "code",
   "execution_count": 23,
   "metadata": {},
   "outputs": [
    {
     "name": "stdout",
     "output_type": "stream",
     "text": [
      "Silhoutte Score | K = 2 and Attributes = Pace, Physic, Power Stamina\n",
      ">>> 0.3453511803586979\n"
     ]
    }
   ],
   "source": [
    "parameter = data.apply(getParameter1, axis=1)\n",
    "\n",
    "idxc1 = randint(0,len(parameter))\n",
    "idxc2 = randint(0,len(parameter))\n",
    "while idxc2 == idxc1:\n",
    "    idxc2 = randint(0,len(parameter))\n",
    "\n",
    "c1_3 = parameter[idxc1][0:3]\n",
    "c2_3 = parameter[idxc2][0:3]\n",
    "\n",
    "while True:\n",
    "    for i in parameter:\n",
    "        euc1, euc2 = getEuclideanK2(i, c1_3, c2_3)\n",
    "        i[3] = getClusterK2(euc1, euc2)\n",
    "    prev_c1 = copy.deepcopy(c1_3)\n",
    "    prev_c2 = copy.deepcopy(c2_3)\n",
    "    \n",
    "    c1_3, c2_3 = getNewCentroidK2(parameter)\n",
    "    if prev_c1 == c1_3 and prev_c2 == c2_3:\n",
    "        break\n",
    "\n",
    "att_3 = []\n",
    "cluster_3 = []\n",
    "att1_1_3 = []\n",
    "att1_2_3 = []\n",
    "att1_3_3 = []\n",
    "\n",
    "att2_1_3 = []\n",
    "att2_2_3 = []\n",
    "att2_3_3 = []\n",
    "\n",
    "for i in parameter:\n",
    "    att_3.append([i[0],i[1],i[2]])\n",
    "    cluster_3.append(i[3])\n",
    "    if i[3] == 1: \n",
    "        att1_1_3.append(i[0]) \n",
    "        att1_2_3.append(i[1]) \n",
    "        att1_3_3.append(i[2]) \n",
    "    else:\n",
    "        att2_1_3.append(i[0])\n",
    "        att2_2_3.append(i[1])\n",
    "        att2_3_3.append(i[2])\n",
    "        \n",
    "score_3 = silhouette_score(att_3, cluster_3)\n",
    "print(\"Silhoutte Score | K = 2 and Attributes = Pace, Physic, Power Stamina\")\n",
    "print(\">>>\",score_3)\n",
    "\n",
    "silhouette_scores.append({'K':2,'Attributes':'Pace, Physic, Power Stamina','Silhouette Score':score_3})"
   ]
  },
  {
   "cell_type": "code",
   "execution_count": 24,
   "metadata": {},
   "outputs": [
    {
     "data": {
      "image/png": "[encoded data removed]",
      "text/plain": [
       "<Figure size 432x288 with 1 Axes>"
      ]
     },
     "metadata": {
      "needs_background": "light"
     },
     "output_type": "display_data"
    }
   ],
   "source": [
    "fig=plt.figure()\n",
    "ax=Axes3D(fig)\n",
    "\n",
    "# VISUALISASI DATA YANG DAPAT LABEL 1\n",
    "ax.scatter(att1_1_3,att1_2_3,att1_3_3,color='green', marker='v', label='Cluster 1')\n",
    "ax.scatter(c1_3[0],c1_3[1],c1_3[2],color='red',marker='o')\n",
    "\n",
    "# VISUALISASI DATA YANG DAPAT LABEL 2\n",
    "ax.scatter(att2_1_3, att2_2_3, att2_3_3,color='yellow', marker=',', label='Cluster 2')\n",
    "ax.scatter(c2_3[0],c2_3[1],c2_3[2],color='red',marker='o')\n",
    "\n",
    "\n",
    "ax.set_xlabel('Pace')\n",
    "ax.set_ylabel('Physic')\n",
    "ax.set_zlabel('Power Stamina')\n",
    "\n",
    "ax.legend()\n",
    "\n",
    "plt.show()"
   ]
  },
  {
   "cell_type": "markdown",
   "metadata": {},
   "source": [
    "### Fitur : Passing, Shooting, Defending"
   ]
  },
  {
   "cell_type": "code",
   "execution_count": 25,
   "metadata": {},
   "outputs": [
    {
     "name": "stdout",
     "output_type": "stream",
     "text": [
      "Silhoutte Score | K = 2 and Attributes = Passing, Shooting, Defending\n",
      ">>> 0.4243200141289028\n"
     ]
    }
   ],
   "source": [
    "parameter = data.apply(getParameter2, axis=1)\n",
    "\n",
    "idxc1 = randint(0,len(parameter))\n",
    "idxc2 = randint(0,len(parameter))\n",
    "while idxc2 == idxc1:\n",
    "    idxc2 = randint(0,len(parameter))\n",
    "\n",
    "#ITERASI PERTAMA\n",
    "c1_4 = parameter[idxc1][0:3]\n",
    "c2_4 = parameter[idxc2][0:3]\n",
    "while True:\n",
    "    for i in parameter:\n",
    "        euc1, euc2 = getEuclideanK2(i, c1_4, c2_4)\n",
    "        i[3] = getClusterK2(euc1, euc2)\n",
    "    prev_c1 = copy.deepcopy(c1_4)\n",
    "    prev_c2 = copy.deepcopy(c2_4)\n",
    "    \n",
    "    c1, c2 = getNewCentroidK2(parameter)\n",
    "    if prev_c1 == c1_4 and prev_c2 == c2_4:\n",
    "        break\n",
    "\n",
    "att_4 = []\n",
    "cluster_4 = []\n",
    "\n",
    "att1_1_4 = []\n",
    "att1_2_4 = []\n",
    "att1_3_4 = []\n",
    "\n",
    "att2_1_4 = []\n",
    "att2_2_4 = []\n",
    "att2_3_4 = []\n",
    "\n",
    "for i in parameter:\n",
    "    cluster_4.append(i[3])\n",
    "    att_4.append([i[0],i[1],i[2]])\n",
    "    if i[3] == 1: \n",
    "        att1_1_4.append(i[0]) \n",
    "        att1_2_4.append(i[1]) \n",
    "        att1_3_4.append(i[2]) \n",
    "    else:\n",
    "        att2_1_4.append(i[0])\n",
    "        att2_2_4.append(i[1])\n",
    "        att2_3_4.append(i[2])\n",
    "\n",
    "score_4 = silhouette_score(att_4, cluster_4)\n",
    "print(\"Silhoutte Score | K = 2 and Attributes = Passing, Shooting, Defending\")\n",
    "print(\">>>\",score_4)\n",
    "\n",
    "silhouette_scores.append({'K':2,'Attributes':'Passing, Shooting, Defending','Silhouette Score':score_4})"
   ]
  },
  {
   "cell_type": "code",
   "execution_count": 26,
   "metadata": {},
   "outputs": [
    {
     "data": {
      "image/png": "[encoded data removed]",
      "text/plain": [
       "<Figure size 432x288 with 1 Axes>"
      ]
     },
     "metadata": {
      "needs_background": "light"
     },
     "output_type": "display_data"
    }
   ],
   "source": [
    "fig=plt.figure()\n",
    "ax=Axes3D(fig)\n",
    "\n",
    "# VISUALISASI DATA YANG DAPAT LABEL 1\n",
    "ax.scatter(att1_1_4,att1_2_4,att1_3_4,color='green', marker='v', label='Cluster 1')\n",
    "ax.scatter(c1_4[0],c1_4[1],c1_4[2],color='red',marker='o')\n",
    "\n",
    "# VISUALISASI DATA YANG DAPAT LABEL 2\n",
    "ax.scatter(att2_1_4, att2_2_4, att2_3_4,color='yellow', marker=',', label='Cluster 2')\n",
    "ax.scatter(c2_4[0],c2_4[1],c2_4[2],color='red',marker='o')\n",
    "\n",
    "\n",
    "ax.set_xlabel('Passing')\n",
    "ax.set_ylabel('Shooting')\n",
    "ax.set_zlabel('Defending')\n",
    "\n",
    "ax.legend()\n",
    "\n",
    "plt.show()"
   ]
  },
  {
   "cell_type": "markdown",
   "metadata": {},
   "source": [
    "# CLUSRTERING K=3"
   ]
  },
  {
   "cell_type": "code",
   "execution_count": 27,
   "metadata": {},
   "outputs": [],
   "source": [
    "# FUNCTION FOR 2 ATTRIBUTES\n",
    "def getEuclidean(row, c1, c2, c3):\n",
    "    euc1 = math.sqrt((row[0]-c1[0])**2 + (row[1]-c1[1])**2)\n",
    "    euc2 = math.sqrt((row[0]-c2[0])**2 + (row[1]-c2[1])**2)\n",
    "    euc3 = math.sqrt((row[0]-c3[0])**2 + (row[1]-c3[1])**2)\n",
    "    return euc1, euc2, euc3\n",
    "\n",
    "def getCluster(euc1, euc2, euc3):\n",
    "    near = min(euc1, euc2, euc3)\n",
    "    if euc1 == near:\n",
    "        return 1\n",
    "    elif euc2 == near:\n",
    "        return 2\n",
    "    else :\n",
    "        return 3\n",
    "    \n",
    "def getNewCentroid(parameter):\n",
    "    sum1 = [0,0]\n",
    "    sum2 = [0,0]\n",
    "    sum3 = [0,0]\n",
    "    count1 = 0\n",
    "    count2 = 0\n",
    "    count3 = 0\n",
    "    for i in parameter:\n",
    "        if i[2] == 1:\n",
    "            sum1[0] += i[0]\n",
    "            sum1[1] += i[1]\n",
    "            count1 += 1\n",
    "        elif i[2] == 2:\n",
    "            sum2[0] += i[0]\n",
    "            sum2[1] += i[1]\n",
    "            count2 += 1\n",
    "        else :\n",
    "            sum3[0] += i[0]\n",
    "            sum3[1] += i[1]\n",
    "            count3 += 1\n",
    "          \n",
    "    c1 = [sum1[0]/count1, sum1[1]/count1]\n",
    "    c2 = [sum2[0]/count2, sum2[1]/count2]\n",
    "    c3 = [sum3[0]/count3, sum3[1]/count3]\n",
    "    \n",
    "    return c1, c2, c3"
   ]
  },
  {
   "cell_type": "markdown",
   "metadata": {},
   "source": [
    "### Attributes : PHYSIC, POWER STAMINA"
   ]
  },
  {
   "cell_type": "code",
   "execution_count": 28,
   "metadata": {},
   "outputs": [
    {
     "name": "stdout",
     "output_type": "stream",
     "text": [
      "Silhoutte Score | K = 3 and Attributes = Physic, Power Stamina\n",
      ">>> 0.4582782369640925\n"
     ]
    }
   ],
   "source": [
    "parameter = data.apply(getParameter, axis=1)\n",
    "\n",
    "idxc1 = randint(0,len(parameter))\n",
    "idxc2 = randint(0,len(parameter))\n",
    "while idxc2 == idxc1:\n",
    "    idxc2 = randint(0,len(parameter))\n",
    "    \n",
    "idxc3 = randint(0,len(parameter))\n",
    "while idxc3 == idxc1 or idxc3 == idxc2:\n",
    "    idxc3 = randint(0,len(parameter))\n",
    "\n",
    "#ITERASI PERTAMA\n",
    "c1_5 = parameter[idxc1][0:2]\n",
    "c2_5 = parameter[idxc2][0:2]\n",
    "c3_5 = parameter[idxc3][0:2]\n",
    "\n",
    "while True:\n",
    "    for i in parameter:\n",
    "        euc1, euc2, euc3 = getEuclidean(i, c1_5, c2_5, c3_5)\n",
    "        i[2] = getCluster(euc1, euc2, euc3)\n",
    "    prev_c1 = copy.deepcopy(c1_5)\n",
    "    prev_c2 = copy.deepcopy(c2_5)\n",
    "    prev_c3 = copy.deepcopy(c3_5)\n",
    "    \n",
    "    c1_5, c2_5, c3_5 = getNewCentroid(parameter)\n",
    "    if prev_c1 == c1_5 and prev_c2 == c2_5 and prev_c3 == c3_5:\n",
    "        break\n",
    "\n",
    "att1_1_5 = []\n",
    "att1_2_5 = []\n",
    "\n",
    "att2_1_5 = []\n",
    "att2_2_5 = []\n",
    "\n",
    "att3_1_5 = []\n",
    "att3_2_5 = []\n",
    "\n",
    "att_5 = []\n",
    "cluster_5 = []\n",
    "\n",
    "for i in parameter:\n",
    "    cluster_5.append(i[2])\n",
    "    att_5.append([i[0],i[1]])\n",
    "    if i[2] == 1: \n",
    "        att1_1_5.append(i[0]) \n",
    "        att1_2_5.append(i[1]) \n",
    "    elif i[2] == 2:\n",
    "        att2_1_5.append(i[0])\n",
    "        att2_2_5.append(i[1])\n",
    "    elif i[2] == 3:\n",
    "        att3_1_5.append(i[0])\n",
    "        att3_2_5.append(i[1])\n",
    "        \n",
    "score_5 = silhouette_score(att_5, cluster_5)\n",
    "print(\"Silhoutte Score | K = 3 and Attributes = Physic, Power Stamina\")\n",
    "print(\">>>\",score_5)\n",
    "\n",
    "silhouette_scores.append({'K':3,'Attributes':'Physic, Power Stamina','Silhouette Score':score_5})"
   ]
  },
  {
   "cell_type": "code",
   "execution_count": 29,
   "metadata": {},
   "outputs": [
    {
     "data": {
      "image/png": "[encoded data removed]",
      "text/plain": [
       "<Figure size 432x288 with 1 Axes>"
      ]
     },
     "metadata": {
      "needs_background": "light"
     },
     "output_type": "display_data"
    }
   ],
   "source": [
    "# VISUALISASI DATA YANG DAPAT LABEL 1\n",
    "plt.scatter(att1_1_5,att1_2_5,color='green', marker='.', label='Cluster 1')\n",
    "plt.scatter(c1_5[0],c1_5[1],color='black',marker='o')\n",
    "\n",
    "# VISUALISASI DATA YANG DAPAT LABEL 2\n",
    "plt.scatter(att2_1_5, att2_2_5,color='yellow', marker='.', label='Cluster 2')\n",
    "plt.scatter(c2_5[0],c2_5[1],color='black',marker='o')\n",
    "\n",
    "# VISUALISASI DATA YANG DAPAT LABEL 3\n",
    "plt.scatter(att3_1_5, att3_2_5,color='blue', marker='.', label='Cluster 3')\n",
    "plt.scatter(c3_5[0],c3_5[1],color='black',marker='o')\n",
    "\n",
    "\n",
    "plt.xlabel('Physic')\n",
    "plt.ylabel('Power Stamina')\n",
    "\n",
    "plt.legend()\n",
    "\n",
    "plt.show()"
   ]
  },
  {
   "cell_type": "markdown",
   "metadata": {},
   "source": [
    "### Attributes : Shooting, Defending"
   ]
  },
  {
   "cell_type": "code",
   "execution_count": 30,
   "metadata": {},
   "outputs": [
    {
     "name": "stdout",
     "output_type": "stream",
     "text": [
      "Silhoutte Score | K = 3 and Attributes = Shooting, Defending\n",
      ">>> 0.47385094749857265\n"
     ]
    }
   ],
   "source": [
    "parameter = data.apply(getParameter0, axis=1)\n",
    "\n",
    "idxc1 = randint(0,len(parameter))\n",
    "idxc2 = randint(0,len(parameter))\n",
    "while idxc2 == idxc1:\n",
    "    idxc2 = randint(0,len(parameter))\n",
    "    \n",
    "idxc3 = randint(0,len(parameter))\n",
    "while idxc3 == idxc1 or idxc3 == idxc2:\n",
    "    idxc3 = randint(0,len(parameter))\n",
    "\n",
    "#ITERASI PERTAMA\n",
    "c1_6 = parameter[idxc1][0:2]\n",
    "c2_6 = parameter[idxc2][0:2]\n",
    "c3_6 = parameter[idxc3][0:2]\n",
    "\n",
    "while True:\n",
    "    for i in parameter:\n",
    "        euc1, euc2, euc3 = getEuclidean(i, c1_6, c2_6, c3_6)\n",
    "        i[2] = getCluster(euc1, euc2, euc3)\n",
    "    prev_c1 = copy.deepcopy(c1_6)\n",
    "    prev_c2 = copy.deepcopy(c2_6)\n",
    "    prev_c3 = copy.deepcopy(c3_6)\n",
    "    \n",
    "    c1_6, c2_6, c3_6 = getNewCentroid(parameter)\n",
    "    if prev_c1 == c1_6 and prev_c2 == c2_6 and prev_c3 == c3_6:\n",
    "        break\n",
    "\n",
    "att1_1_6 = []\n",
    "att1_2_6 = []\n",
    "\n",
    "att2_1_6 = []\n",
    "att2_2_6 = []\n",
    "\n",
    "att3_1_6 = []\n",
    "att3_2_6 = []\n",
    "\n",
    "att_6 = []\n",
    "cluster_6 = []\n",
    "\n",
    "for i in parameter:\n",
    "    cluster_6.append(i[2])\n",
    "    att_6.append([i[0],i[1]])\n",
    "    if i[2] == 1: \n",
    "        att1_1_6.append(i[0]) \n",
    "        att1_2_6.append(i[1]) \n",
    "    elif i[2] == 2:\n",
    "        att2_1_6.append(i[0])\n",
    "        att2_2_6.append(i[1])\n",
    "    elif i[2] == 3:\n",
    "        att3_1_6.append(i[0])\n",
    "        att3_2_6.append(i[1])\n",
    "        \n",
    "score_6 = silhouette_score(att_6, cluster_6)\n",
    "print(\"Silhoutte Score | K = 3 and Attributes = Shooting, Defending\")\n",
    "print(\">>>\",score_6)\n",
    "\n",
    "silhouette_scores.append({'K':3,'Attributes':'Shooting, Defending','Silhouette Score':score_6})"
   ]
  },
  {
   "cell_type": "code",
   "execution_count": 31,
   "metadata": {},
   "outputs": [
    {
     "data": {
      "image/png": "[encoded data removed]",
      "text/plain": [
       "<Figure size 432x288 with 1 Axes>"
      ]
     },
     "metadata": {
      "needs_background": "light"
     },
     "output_type": "display_data"
    }
   ],
   "source": [
    "# VISUALISASI DATA YANG DAPAT LABEL 1\n",
    "plt.scatter(att1_1_6,att1_2_6,color='green', marker='.', label='Cluster 1')\n",
    "plt.scatter(c1_6[0],c1_6[1],color='black',marker='o')\n",
    "\n",
    "# VISUALISASI DATA YANG DAPAT LABEL 2\n",
    "plt.scatter(att2_1_6, att2_2_6,color='yellow', marker='.', label='Cluster 2')\n",
    "plt.scatter(c2_6[0],c2_6[1],color='black',marker='o')\n",
    "\n",
    "# VISUALISASI DATA YANG DAPAT LABEL 3\n",
    "plt.scatter(att3_1_6, att3_2_6,color='blue', marker='.', label='Cluster 3')\n",
    "plt.scatter(c3_6[0],c3_6[1],color='black',marker='o')\n",
    "\n",
    "\n",
    "plt.xlabel('Shooting')\n",
    "plt.ylabel('Defending')\n",
    "\n",
    "plt.legend()\n",
    "\n",
    "plt.show()"
   ]
  },
  {
   "cell_type": "code",
   "execution_count": 32,
   "metadata": {},
   "outputs": [],
   "source": [
    "# FUNCTION FOR 3 ATTRIBUTES\n",
    "def getEuclidean(row, c1, c2, c3):\n",
    "    euc1 = math.sqrt((row[0]-c1[0])**2 + (row[1]-c1[1])**2 + (row[2]-c1[2])**2)\n",
    "    euc2 = math.sqrt((row[0]-c2[0])**2 + (row[1]-c2[1])**2 + (row[2]-c2[2])**2)\n",
    "    euc3 = math.sqrt((row[0]-c3[0])**2 + (row[1]-c3[1])**2 + (row[2]-c3[2])**2)\n",
    "    return euc1, euc2, euc3\n",
    "\n",
    "def getCluster(euc1, euc2, euc3):\n",
    "    near = min(euc1, euc2, euc3)\n",
    "    if euc1 == near:\n",
    "        return 1\n",
    "    elif euc2 == near:\n",
    "        return 2\n",
    "    else :\n",
    "        return 3\n",
    "    \n",
    "def getNewCentroid(parameter):\n",
    "    sum1 = [0,0,0]\n",
    "    sum2 = [0,0,0]\n",
    "    sum3 = [0,0,0]\n",
    "    count1 = 0\n",
    "    count2 = 0\n",
    "    count3 = 0\n",
    "    for i in parameter:\n",
    "        if i[3] == 1:\n",
    "            sum1[0] += i[0]\n",
    "            sum1[1] += i[1]\n",
    "            sum1[2] += i[2]\n",
    "            count1 += 1\n",
    "        elif i[3] == 2:\n",
    "            sum2[0] += i[0]\n",
    "            sum2[1] += i[1]\n",
    "            sum2[2] += i[2]\n",
    "            count2 += 1\n",
    "        else :\n",
    "            sum3[0] += i[0]\n",
    "            sum3[1] += i[1]\n",
    "            sum3[2] += i[2]\n",
    "            count3 += 1\n",
    "          \n",
    "    c1 = [sum1[0]/count1, sum1[1]/count1, sum1[2]/count1]\n",
    "    c2 = [sum2[0]/count2, sum2[1]/count2, sum2[2]/count2]\n",
    "    c3 = [sum3[0]/count3, sum3[1]/count3, sum3[2]/count3]\n",
    "    \n",
    "    return c1, c2, c3"
   ]
  },
  {
   "cell_type": "markdown",
   "metadata": {},
   "source": [
    "## Fitur : Pace, Physic, Power Stamina"
   ]
  },
  {
   "cell_type": "code",
   "execution_count": 33,
   "metadata": {
    "scrolled": false
   },
   "outputs": [
    {
     "name": "stdout",
     "output_type": "stream",
     "text": [
      "Silhoutte Score | K = 3 and Attributes = Pace, Physic, Power Stamina\n",
      ">>> 0.31680280635980873\n"
     ]
    }
   ],
   "source": [
    "parameter = data.apply(getParameter1, axis=1)\n",
    "\n",
    "idxc1 = randint(0,len(parameter))\n",
    "idxc2 = randint(0,len(parameter))\n",
    "while idxc2 == idxc1:\n",
    "    idxc2 = randint(0,len(parameter))\n",
    "    \n",
    "idxc3 = randint(0,len(parameter))\n",
    "while idxc3 == idxc1 or idxc3 == idxc2:\n",
    "    idxc3 = randint(0,len(parameter))\n",
    "\n",
    "#ITERASI PERTAMA\n",
    "c1_7 = parameter[idxc1][0:3]\n",
    "c2_7 = parameter[idxc2][0:3]\n",
    "c3_7 = parameter[idxc3][0:3]\n",
    "\n",
    "while True:\n",
    "    for i in parameter:\n",
    "        euc1, euc2, euc3 = getEuclidean(i, c1_7, c2_7, c3_7)\n",
    "        i[3] = getCluster(euc1, euc2, euc3)\n",
    "    prev_c1 = copy.deepcopy(c1_7)\n",
    "    prev_c2 = copy.deepcopy(c2_7)\n",
    "    prev_c3 = copy.deepcopy(c3_7)\n",
    "    \n",
    "    c1_7, c2_7, c3_7 = getNewCentroid(parameter)\n",
    "    if prev_c1 == c1_7 and prev_c2 == c2_7 and prev_c3 == c3_7:\n",
    "        break\n",
    "\n",
    "att1_1_7 = []\n",
    "att1_2_7 = []\n",
    "att1_3_7 = []\n",
    "\n",
    "att2_1_7 = []\n",
    "att2_2_7 = []\n",
    "att2_3_7 = []\n",
    "\n",
    "att3_1_7 = []\n",
    "att3_2_7 = []\n",
    "att3_3_7 = []\n",
    "\n",
    "att_7 = []\n",
    "cluster_7 = []\n",
    "\n",
    "for i in parameter:\n",
    "    cluster_7.append(i[3])\n",
    "    att_7.append([i[0],i[1],i[2]])\n",
    "    if i[3] == 1: \n",
    "        att1_1_7.append(i[0]) \n",
    "        att1_2_7.append(i[1]) \n",
    "        att1_3_7.append(i[2]) \n",
    "    elif i[3] == 2:\n",
    "        att2_1_7.append(i[0])\n",
    "        att2_2_7.append(i[1])\n",
    "        att2_3_7.append(i[2])\n",
    "    elif i[3] == 3:\n",
    "        att3_1_7.append(i[0])\n",
    "        att3_2_7.append(i[1])\n",
    "        att3_3_7.append(i[2])\n",
    "\n",
    "score_7 = silhouette_score(att_7, cluster_7)\n",
    "print(\"Silhoutte Score | K = 3 and Attributes = Pace, Physic, Power Stamina\")\n",
    "print(\">>>\",score_7)\n",
    "\n",
    "silhouette_scores.append({'K':3,'Attributes':'Pace, Physic, Power Stamina','Silhouette Score':score_7})"
   ]
  },
  {
   "cell_type": "code",
   "execution_count": 34,
   "metadata": {},
   "outputs": [
    {
     "data": {
      "image/png": "[encoded data removed]",
      "text/plain": [
       "<Figure size 432x288 with 1 Axes>"
      ]
     },
     "metadata": {
      "needs_background": "light"
     },
     "output_type": "display_data"
    }
   ],
   "source": [
    "fig=plt.figure()\n",
    "ax=Axes3D(fig)\n",
    "\n",
    "# VISUALISASI DATA YANG DAPAT LABEL 1\n",
    "ax.scatter(att1_1_7,att1_2_7,att1_3_7,color='green', marker='v', label='Cluster 1')\n",
    "ax.scatter(c1_7[0],c1_7[1],c1_7[2],color='red',marker='o')\n",
    "\n",
    "# VISUALISASI DATA YANG DAPAT LABEL 2\n",
    "ax.scatter(att2_1_7, att2_2_7, att2_3_7,color='yellow', marker=',', label='Cluster 2')\n",
    "ax.scatter(c2_7[0],c2_7[1],c2_7[2],color='red',marker='o')\n",
    "\n",
    "# VISUALISASI DATA YANG DAPAT LABEL 3\n",
    "ax.scatter(att3_1_7, att3_2_7, att3_3_7,color='blue', marker='o',label='Cluster 3')\n",
    "ax.scatter(c3_7[0],c3_7[1],c3_7[2],color='red',marker='o')\n",
    "\n",
    "ax.set_xlabel('Pace')\n",
    "ax.set_ylabel('Physic')\n",
    "ax.set_zlabel('Power Stamina')\n",
    "\n",
    "ax.legend()\n",
    "\n",
    "plt.show()"
   ]
  },
  {
   "cell_type": "markdown",
   "metadata": {},
   "source": [
    "## Fitur : Passing, Shooting, Defending"
   ]
  },
  {
   "cell_type": "code",
   "execution_count": 35,
   "metadata": {
    "scrolled": false
   },
   "outputs": [
    {
     "name": "stdout",
     "output_type": "stream",
     "text": [
      "Silhoutte Score | K = 3 and Attributes = Passing, Shooting, Defending\n",
      ">>> 0.42347129106407\n"
     ]
    }
   ],
   "source": [
    "parameter = data.apply(getParameter2, axis=1)\n",
    "\n",
    "idxc1 = randint(0,len(parameter))\n",
    "idxc2 = randint(0,len(parameter))\n",
    "while idxc2 == idxc1:\n",
    "    idxc2 = randint(0,len(parameter))\n",
    "    \n",
    "idxc3 = randint(0,len(parameter))\n",
    "while idxc3 == idxc1 or idxc3 == idxc2:\n",
    "    idxc3 = randint(0,len(parameter))\n",
    "\n",
    "#ITERASI PERTAMA\n",
    "c1_8 = parameter[idxc1][0:3]\n",
    "c2_8 = parameter[idxc2][0:3]\n",
    "c3_8 = parameter[idxc3][0:3]\n",
    "\n",
    "while True:\n",
    "    for i in parameter:\n",
    "        euc1, euc2, euc3 = getEuclidean(i, c1_8, c2_8, c3_8)\n",
    "        i[3] = getCluster(euc1, euc2, euc3)\n",
    "    prev_c1 = copy.deepcopy(c1_8)\n",
    "    prev_c2 = copy.deepcopy(c2_8)\n",
    "    prev_c3 = copy.deepcopy(c3_8)\n",
    "    \n",
    "    c1_8, c2_8, c3_8 = getNewCentroid(parameter)\n",
    "    if prev_c1 == c1_8 and prev_c2 == c2_8 and prev_c3 == c3_8:\n",
    "        break\n",
    "\n",
    "att1_1_8 = []\n",
    "att1_2_8 = []\n",
    "att1_3_8 = []\n",
    "\n",
    "att2_1_8 = []\n",
    "att2_2_8 = []\n",
    "att2_3_8 = []\n",
    "\n",
    "att3_1_8 = []\n",
    "att3_2_8 = []\n",
    "att3_3_8 = []\n",
    "\n",
    "att_8 = []\n",
    "cluster_8 = []\n",
    "\n",
    "for i in parameter:\n",
    "    cluster_8.append(i[3])\n",
    "    att_8.append([i[0],i[1],i[2]])\n",
    "    if i[3] == 1: \n",
    "        att1_1_8.append(i[0]) \n",
    "        att1_2_8.append(i[1]) \n",
    "        att1_3_8.append(i[2]) \n",
    "    elif i[3] == 2:\n",
    "        att2_1_8.append(i[0])\n",
    "        att2_2_8.append(i[1])\n",
    "        att2_3_8.append(i[2])\n",
    "    elif i[3] == 3:\n",
    "        att3_1_8.append(i[0])\n",
    "        att3_2_8.append(i[1])\n",
    "        att3_3_8.append(i[2])\n",
    "\n",
    "score_8 = silhouette_score(att_8, cluster_8)\n",
    "print(\"Silhoutte Score | K = 3 and Attributes = Passing, Shooting, Defending\")\n",
    "print(\">>>\",score_8)\n",
    "\n",
    "silhouette_scores.append({'K':3,'Attributes':'Passing, Shooting, Defending','Silhouette Score':score_8})"
   ]
  },
  {
   "cell_type": "code",
   "execution_count": 36,
   "metadata": {
    "scrolled": true
   },
   "outputs": [
    {
     "data": {
      "image/png": "[encoded data removed]",
      "text/plain": [
       "<Figure size 432x288 with 1 Axes>"
      ]
     },
     "metadata": {
      "needs_background": "light"
     },
     "output_type": "display_data"
    }
   ],
   "source": [
    "fig=plt.figure()\n",
    "ax=Axes3D(fig)\n",
    "\n",
    "# VISUALISASI DATA YANG DAPAT LABEL 1\n",
    "ax.scatter(att1_1_8,att1_2_8,att1_3_8,color='green', marker='v', label='Cluster 1')\n",
    "ax.scatter(c1_8[0],c1_8[1],c1_8[2],color='red',marker='o')\n",
    "\n",
    "# VISUALISASI DATA YANG DAPAT LABEL 2\n",
    "ax.scatter(att2_1_8, att2_2_8, att2_3_8,color='yellow', marker=',', label='Cluster 2')\n",
    "ax.scatter(c2_8[0],c2_8[1],c2_8[2],color='red',marker='o')\n",
    "\n",
    "# VISUALISASI DATA YANG DAPAT LABEL 3\n",
    "ax.scatter(att3_1_8, att3_2_8, att3_3_8,color='blue', marker='o',label='Cluster 3')\n",
    "ax.scatter(c3_8[0],c3_8[1],c3_8[2],color='red',marker='o')\n",
    "\n",
    "ax.set_xlabel('Passing')\n",
    "ax.set_ylabel('Shooting')\n",
    "ax.set_zlabel('Defending')\n",
    "\n",
    "ax.legend()\n",
    "\n",
    "plt.show()"
   ]
  },
  {
   "cell_type": "markdown",
   "metadata": {},
   "source": [
    "## ALL CLUSTERING RESULTS "
   ]
  },
  {
   "cell_type": "code",
   "execution_count": 37,
   "metadata": {},
   "outputs": [
    {
     "data": {
      "text/html": [
       "<div>\n",
       "<style scoped>\n",
       "    .dataframe tbody tr th:only-of-type {\n",
       "        vertical-align: middle;\n",
       "    }\n",
       "\n",
       "    .dataframe tbody tr th {\n",
       "        vertical-align: top;\n",
       "    }\n",
       "\n",
       "    .dataframe thead th {\n",
       "        text-align: right;\n",
       "    }\n",
       "</style>\n",
       "<table border=\"1\" class=\"dataframe\">\n",
       "  <thead>\n",
       "    <tr style=\"text-align: right;\">\n",
       "      <th></th>\n",
       "      <th>K</th>\n",
       "      <th>Attributes</th>\n",
       "      <th>Silhouette Score</th>\n",
       "    </tr>\n",
       "  </thead>\n",
       "  <tbody>\n",
       "    <tr>\n",
       "      <th>0</th>\n",
       "      <td>2</td>\n",
       "      <td>Physic, Power Stamina</td>\n",
       "      <td>0.453454</td>\n",
       "    </tr>\n",
       "    <tr>\n",
       "      <th>1</th>\n",
       "      <td>2</td>\n",
       "      <td>Shooting, Defending</td>\n",
       "      <td>0.508723</td>\n",
       "    </tr>\n",
       "    <tr>\n",
       "      <th>2</th>\n",
       "      <td>2</td>\n",
       "      <td>Pace, Physic, Power Stamina</td>\n",
       "      <td>0.345351</td>\n",
       "    </tr>\n",
       "    <tr>\n",
       "      <th>3</th>\n",
       "      <td>2</td>\n",
       "      <td>Passing, Shooting, Defending</td>\n",
       "      <td>0.424320</td>\n",
       "    </tr>\n",
       "    <tr>\n",
       "      <th>4</th>\n",
       "      <td>3</td>\n",
       "      <td>Physic, Power Stamina</td>\n",
       "      <td>0.458278</td>\n",
       "    </tr>\n",
       "    <tr>\n",
       "      <th>5</th>\n",
       "      <td>3</td>\n",
       "      <td>Shooting, Defending</td>\n",
       "      <td>0.473851</td>\n",
       "    </tr>\n",
       "    <tr>\n",
       "      <th>6</th>\n",
       "      <td>3</td>\n",
       "      <td>Pace, Physic, Power Stamina</td>\n",
       "      <td>0.316803</td>\n",
       "    </tr>\n",
       "    <tr>\n",
       "      <th>7</th>\n",
       "      <td>3</td>\n",
       "      <td>Passing, Shooting, Defending</td>\n",
       "      <td>0.423471</td>\n",
       "    </tr>\n",
       "  </tbody>\n",
       "</table>\n",
       "</div>"
      ],
      "text/plain": [
       "   K                    Attributes  Silhouette Score\n",
       "0  2         Physic, Power Stamina          0.453454\n",
       "1  2           Shooting, Defending          0.508723\n",
       "2  2   Pace, Physic, Power Stamina          0.345351\n",
       "3  2  Passing, Shooting, Defending          0.424320\n",
       "4  3         Physic, Power Stamina          0.458278\n",
       "5  3           Shooting, Defending          0.473851\n",
       "6  3   Pace, Physic, Power Stamina          0.316803\n",
       "7  3  Passing, Shooting, Defending          0.423471"
      ]
     },
     "execution_count": 37,
     "metadata": {},
     "output_type": "execute_result"
    }
   ],
   "source": [
    "cluster_result = pd.DataFrame(silhouette_scores)\n",
    "cluster_result"
   ]
  },
  {
   "cell_type": "markdown",
   "metadata": {},
   "source": [
    "# CLASSIFICATION"
   ]
  },
  {
   "cell_type": "code",
   "execution_count": 38,
   "metadata": {},
   "outputs": [
    {
     "data": {
      "text/html": [
       "<div>\n",
       "<style scoped>\n",
       "    .dataframe tbody tr th:only-of-type {\n",
       "        vertical-align: middle;\n",
       "    }\n",
       "\n",
       "    .dataframe tbody tr th {\n",
       "        vertical-align: top;\n",
       "    }\n",
       "\n",
       "    .dataframe thead th {\n",
       "        text-align: right;\n",
       "    }\n",
       "</style>\n",
       "<table border=\"1\" class=\"dataframe\">\n",
       "  <thead>\n",
       "    <tr style=\"text-align: right;\">\n",
       "      <th></th>\n",
       "      <th>potential</th>\n",
       "      <th>pace</th>\n",
       "      <th>physic</th>\n",
       "      <th>power_stamina</th>\n",
       "      <th>passing</th>\n",
       "      <th>shooting</th>\n",
       "      <th>defending</th>\n",
       "    </tr>\n",
       "  </thead>\n",
       "  <tbody>\n",
       "    <tr>\n",
       "      <th>0</th>\n",
       "      <td>high</td>\n",
       "      <td>0.875000</td>\n",
       "      <td>0.619048</td>\n",
       "      <td>0.741176</td>\n",
       "      <td>1.000000</td>\n",
       "      <td>0.987179</td>\n",
       "      <td>0.320000</td>\n",
       "    </tr>\n",
       "    <tr>\n",
       "      <th>1</th>\n",
       "      <td>high</td>\n",
       "      <td>0.916667</td>\n",
       "      <td>0.809524</td>\n",
       "      <td>0.858824</td>\n",
       "      <td>0.852941</td>\n",
       "      <td>1.000000</td>\n",
       "      <td>0.266667</td>\n",
       "    </tr>\n",
       "    <tr>\n",
       "      <th>2</th>\n",
       "      <td>high</td>\n",
       "      <td>0.930556</td>\n",
       "      <td>0.492063</td>\n",
       "      <td>0.811765</td>\n",
       "      <td>0.926471</td>\n",
       "      <td>0.897436</td>\n",
       "      <td>0.226667</td>\n",
       "    </tr>\n",
       "    <tr>\n",
       "      <th>3</th>\n",
       "      <td>high</td>\n",
       "      <td>0.625000</td>\n",
       "      <td>0.619048</td>\n",
       "      <td>0.341176</td>\n",
       "      <td>0.500000</td>\n",
       "      <td>0.500000</td>\n",
       "      <td>0.546667</td>\n",
       "    </tr>\n",
       "    <tr>\n",
       "      <th>4</th>\n",
       "      <td>high</td>\n",
       "      <td>0.930556</td>\n",
       "      <td>0.619048</td>\n",
       "      <td>0.847059</td>\n",
       "      <td>0.911765</td>\n",
       "      <td>0.871795</td>\n",
       "      <td>0.266667</td>\n",
       "    </tr>\n",
       "  </tbody>\n",
       "</table>\n",
       "</div>"
      ],
      "text/plain": [
       "  potential      pace    physic  power_stamina   passing  shooting  defending\n",
       "0      high  0.875000  0.619048       0.741176  1.000000  0.987179   0.320000\n",
       "1      high  0.916667  0.809524       0.858824  0.852941  1.000000   0.266667\n",
       "2      high  0.930556  0.492063       0.811765  0.926471  0.897436   0.226667\n",
       "3      high  0.625000  0.619048       0.341176  0.500000  0.500000   0.546667\n",
       "4      high  0.930556  0.619048       0.847059  0.911765  0.871795   0.266667"
      ]
     },
     "execution_count": 38,
     "metadata": {},
     "output_type": "execute_result"
    }
   ],
   "source": [
    "data.head()"
   ]
  },
  {
   "cell_type": "code",
   "execution_count": 39,
   "metadata": {},
   "outputs": [
    {
     "data": {
      "text/html": [
       "<div>\n",
       "<style scoped>\n",
       "    .dataframe tbody tr th:only-of-type {\n",
       "        vertical-align: middle;\n",
       "    }\n",
       "\n",
       "    .dataframe tbody tr th {\n",
       "        vertical-align: top;\n",
       "    }\n",
       "\n",
       "    .dataframe thead th {\n",
       "        text-align: right;\n",
       "    }\n",
       "</style>\n",
       "<table border=\"1\" class=\"dataframe\">\n",
       "  <thead>\n",
       "    <tr style=\"text-align: right;\">\n",
       "      <th></th>\n",
       "      <th>potential</th>\n",
       "      <th>pace</th>\n",
       "      <th>physic</th>\n",
       "      <th>power_stamina</th>\n",
       "      <th>passing</th>\n",
       "      <th>shooting</th>\n",
       "      <th>defending</th>\n",
       "    </tr>\n",
       "  </thead>\n",
       "  <tbody>\n",
       "    <tr>\n",
       "      <th>0</th>\n",
       "      <td>3</td>\n",
       "      <td>0.875000</td>\n",
       "      <td>0.619048</td>\n",
       "      <td>0.741176</td>\n",
       "      <td>1.000000</td>\n",
       "      <td>0.987179</td>\n",
       "      <td>0.320000</td>\n",
       "    </tr>\n",
       "    <tr>\n",
       "      <th>1</th>\n",
       "      <td>3</td>\n",
       "      <td>0.916667</td>\n",
       "      <td>0.809524</td>\n",
       "      <td>0.858824</td>\n",
       "      <td>0.852941</td>\n",
       "      <td>1.000000</td>\n",
       "      <td>0.266667</td>\n",
       "    </tr>\n",
       "    <tr>\n",
       "      <th>2</th>\n",
       "      <td>3</td>\n",
       "      <td>0.930556</td>\n",
       "      <td>0.492063</td>\n",
       "      <td>0.811765</td>\n",
       "      <td>0.926471</td>\n",
       "      <td>0.897436</td>\n",
       "      <td>0.226667</td>\n",
       "    </tr>\n",
       "    <tr>\n",
       "      <th>3</th>\n",
       "      <td>3</td>\n",
       "      <td>0.625000</td>\n",
       "      <td>0.619048</td>\n",
       "      <td>0.341176</td>\n",
       "      <td>0.500000</td>\n",
       "      <td>0.500000</td>\n",
       "      <td>0.546667</td>\n",
       "    </tr>\n",
       "    <tr>\n",
       "      <th>4</th>\n",
       "      <td>3</td>\n",
       "      <td>0.930556</td>\n",
       "      <td>0.619048</td>\n",
       "      <td>0.847059</td>\n",
       "      <td>0.911765</td>\n",
       "      <td>0.871795</td>\n",
       "      <td>0.266667</td>\n",
       "    </tr>\n",
       "  </tbody>\n",
       "</table>\n",
       "</div>"
      ],
      "text/plain": [
       "   potential      pace    physic  power_stamina   passing  shooting  defending\n",
       "0          3  0.875000  0.619048       0.741176  1.000000  0.987179   0.320000\n",
       "1          3  0.916667  0.809524       0.858824  0.852941  1.000000   0.266667\n",
       "2          3  0.930556  0.492063       0.811765  0.926471  0.897436   0.226667\n",
       "3          3  0.625000  0.619048       0.341176  0.500000  0.500000   0.546667\n",
       "4          3  0.930556  0.619048       0.847059  0.911765  0.871795   0.266667"
      ]
     },
     "execution_count": 39,
     "metadata": {},
     "output_type": "execute_result"
    }
   ],
   "source": [
    "# POTENTIAL REPLACEMENT WITH NUMERIC VALUE\n",
    "data= data.replace(\n",
    "    {'potential':\n",
    "     {'high': 3,\n",
    "      'average': 2,\n",
    "      'low': 1\n",
    "     }\n",
    "    })\n",
    "data.head()"
   ]
  },
  {
   "cell_type": "code",
   "execution_count": 40,
   "metadata": {},
   "outputs": [],
   "source": [
    "# Save data\n",
    "data.to_csv(\"Data/data1.csv\", sep=',',index=False, encoding='utf-8')"
   ]
  },
  {
   "cell_type": "markdown",
   "metadata": {},
   "source": [
    "## CLASSIFICATION WITH UNBALANCED DATA "
   ]
  },
  {
   "cell_type": "code",
   "execution_count": 41,
   "metadata": {
    "scrolled": true
   },
   "outputs": [
    {
     "name": "stdout",
     "output_type": "stream",
     "text": [
      "Label Count\n"
     ]
    },
    {
     "data": {
      "text/plain": [
       "2    14182\n",
       "1     2167\n",
       "3     1929\n",
       "Name: potential, dtype: int64"
      ]
     },
     "execution_count": 41,
     "metadata": {},
     "output_type": "execute_result"
    },
    {
     "data": {
      "image/png": "[encoded data removed]",
      "text/plain": [
       "<Figure size 432x288 with 1 Axes>"
      ]
     },
     "metadata": {
      "needs_background": "light"
     },
     "output_type": "display_data"
    }
   ],
   "source": [
    "count_label = data['potential'].value_counts()\n",
    "count_label.plot(kind='bar', title='potential')\n",
    "print('Label','Count')\n",
    "count_label"
   ]
  },
  {
   "cell_type": "code",
   "execution_count": 42,
   "metadata": {},
   "outputs": [
    {
     "name": "stderr",
     "output_type": "stream",
     "text": [
      "E:\\Anaconda3\\lib\\site-packages\\sklearn\\model_selection\\_split.py:2179: FutureWarning: From version 0.21, test_size will always complement train_size unless both are specified.\n",
      "  FutureWarning)\n"
     ]
    }
   ],
   "source": [
    "data_feature = data.filter(['pace','physic','power_stamina','passing','shooting','defending'],axis=1)\n",
    "\n",
    "X_train, X_test, y_train, y_test = train_test_split(data_feature, data['potential'], train_size=0.85, shuffle=True)"
   ]
  },
  {
   "cell_type": "code",
   "execution_count": 43,
   "metadata": {},
   "outputs": [
    {
     "name": "stderr",
     "output_type": "stream",
     "text": [
      "E:\\Anaconda3\\lib\\site-packages\\ipykernel_launcher.py:8: FutureWarning: The signature of `Series.to_csv` was aligned to that of `DataFrame.to_csv`, and argument 'header' will change its default value from False to True: please pass an explicit value to suppress this warning.\n",
      "  \n",
      "E:\\Anaconda3\\lib\\site-packages\\ipykernel_launcher.py:11: FutureWarning: The signature of `Series.to_csv` was aligned to that of `DataFrame.to_csv`, and argument 'header' will change its default value from False to True: please pass an explicit value to suppress this warning.\n",
      "  # This is added back by InteractiveShellApp.init_path()\n"
     ]
    }
   ],
   "source": [
    "# Save X_train\n",
    "X_train.to_csv(\"Data/X_train.csv\", sep=',',index=False, encoding='utf-8')\n",
    "\n",
    "# Save X_test\n",
    "X_test.to_csv(\"Data/X_test.csv\", sep=',',index=False, encoding='utf-8')\n",
    "\n",
    "# Save y_train\n",
    "y_train.to_csv(\"Data/y_train.csv\", sep=',',index=False, encoding='utf-8')\n",
    "\n",
    "# Save y_test\n",
    "y_test.to_csv(\"Data/y_test.csv\", sep=',',index=False, encoding='utf-8')"
   ]
  },
  {
   "cell_type": "code",
   "execution_count": 44,
   "metadata": {},
   "outputs": [
    {
     "data": {
      "text/plain": [
       "SVC(C=1.0, cache_size=200, class_weight=None, coef0=0.0,\n",
       "  decision_function_shape='ovr', degree=3, gamma='auto_deprecated',\n",
       "  kernel='linear', max_iter=-1, probability=False, random_state=None,\n",
       "  shrinking=True, tol=0.001, verbose=False)"
      ]
     },
     "execution_count": 44,
     "metadata": {},
     "output_type": "execute_result"
    }
   ],
   "source": [
    "classifier = svm.SVC(kernel='linear') \n",
    "\n",
    "classifier.fit(X_train, y_train) "
   ]
  },
  {
   "cell_type": "markdown",
   "metadata": {},
   "source": [
    "## CLASSIFICATION WITH BALANCED DATA"
   ]
  },
  {
   "cell_type": "code",
   "execution_count": 45,
   "metadata": {},
   "outputs": [
    {
     "data": {
      "text/html": [
       "<div>\n",
       "<style scoped>\n",
       "    .dataframe tbody tr th:only-of-type {\n",
       "        vertical-align: middle;\n",
       "    }\n",
       "\n",
       "    .dataframe tbody tr th {\n",
       "        vertical-align: top;\n",
       "    }\n",
       "\n",
       "    .dataframe thead th {\n",
       "        text-align: right;\n",
       "    }\n",
       "</style>\n",
       "<table border=\"1\" class=\"dataframe\">\n",
       "  <thead>\n",
       "    <tr style=\"text-align: right;\">\n",
       "      <th></th>\n",
       "      <th>potential</th>\n",
       "      <th>pace</th>\n",
       "      <th>physic</th>\n",
       "      <th>power_stamina</th>\n",
       "      <th>passing</th>\n",
       "      <th>shooting</th>\n",
       "      <th>defending</th>\n",
       "    </tr>\n",
       "  </thead>\n",
       "  <tbody>\n",
       "    <tr>\n",
       "      <th>12917</th>\n",
       "      <td>1</td>\n",
       "      <td>0.555556</td>\n",
       "      <td>0.587302</td>\n",
       "      <td>0.658824</td>\n",
       "      <td>0.529412</td>\n",
       "      <td>0.512821</td>\n",
       "      <td>0.613333</td>\n",
       "    </tr>\n",
       "    <tr>\n",
       "      <th>12144</th>\n",
       "      <td>1</td>\n",
       "      <td>0.500000</td>\n",
       "      <td>0.460317</td>\n",
       "      <td>0.623529</td>\n",
       "      <td>0.367647</td>\n",
       "      <td>0.141026</td>\n",
       "      <td>0.653333</td>\n",
       "    </tr>\n",
       "    <tr>\n",
       "      <th>11861</th>\n",
       "      <td>1</td>\n",
       "      <td>0.666667</td>\n",
       "      <td>0.682540</td>\n",
       "      <td>0.764706</td>\n",
       "      <td>0.588235</td>\n",
       "      <td>0.589744</td>\n",
       "      <td>0.466667</td>\n",
       "    </tr>\n",
       "    <tr>\n",
       "      <th>16688</th>\n",
       "      <td>1</td>\n",
       "      <td>0.625000</td>\n",
       "      <td>0.619048</td>\n",
       "      <td>0.152941</td>\n",
       "      <td>0.500000</td>\n",
       "      <td>0.500000</td>\n",
       "      <td>0.546667</td>\n",
       "    </tr>\n",
       "    <tr>\n",
       "      <th>17569</th>\n",
       "      <td>1</td>\n",
       "      <td>0.555556</td>\n",
       "      <td>0.285714</td>\n",
       "      <td>0.482353</td>\n",
       "      <td>0.411765</td>\n",
       "      <td>0.448718</td>\n",
       "      <td>0.306667</td>\n",
       "    </tr>\n",
       "  </tbody>\n",
       "</table>\n",
       "</div>"
      ],
      "text/plain": [
       "       potential      pace    physic  power_stamina   passing  shooting  \\\n",
       "12917          1  0.555556  0.587302       0.658824  0.529412  0.512821   \n",
       "12144          1  0.500000  0.460317       0.623529  0.367647  0.141026   \n",
       "11861          1  0.666667  0.682540       0.764706  0.588235  0.589744   \n",
       "16688          1  0.625000  0.619048       0.152941  0.500000  0.500000   \n",
       "17569          1  0.555556  0.285714       0.482353  0.411765  0.448718   \n",
       "\n",
       "       defending  \n",
       "12917   0.613333  \n",
       "12144   0.653333  \n",
       "11861   0.466667  \n",
       "16688   0.546667  \n",
       "17569   0.306667  "
      ]
     },
     "execution_count": 45,
     "metadata": {},
     "output_type": "execute_result"
    }
   ],
   "source": [
    "# SEPERATED DATA BASED ON LABEL\n",
    "data_label1 = data[data.potential==1]\n",
    "data_label2 = data[data.potential==2]\n",
    "data_label3 = data[data.potential==3]\n",
    " \n",
    "# DOWNSAMPLE DATA\n",
    "data_label1_downsampled = resample(data_label1, \n",
    "                                 replace=False,    # sample without replacement\n",
    "                                 n_samples=len(data_label3),     # to match minority class\n",
    "                                 random_state=123) # reproducible results\n",
    "\n",
    "data_label2_downsampled = resample(data_label2, \n",
    "                                 replace=False,    # sample without replacement\n",
    "                                 n_samples=len(data_label3),     # to match minority class\n",
    "                                 random_state=123) # reproducible results\n",
    "\n",
    "data_downsampled = pd.concat([data_label1_downsampled, data_label2_downsampled, data_label3])\n",
    "data_downsampled.head()"
   ]
  },
  {
   "cell_type": "code",
   "execution_count": 46,
   "metadata": {},
   "outputs": [],
   "source": [
    "# Save data_downsampled\n",
    "data_downsampled.to_csv(\"Data/data_downsampled.csv\", sep=',',index=False, encoding='utf-8')"
   ]
  },
  {
   "cell_type": "code",
   "execution_count": 47,
   "metadata": {},
   "outputs": [
    {
     "name": "stdout",
     "output_type": "stream",
     "text": [
      "Label Count\n"
     ]
    },
    {
     "data": {
      "text/plain": [
       "3    1929\n",
       "2    1929\n",
       "1    1929\n",
       "Name: potential, dtype: int64"
      ]
     },
     "execution_count": 47,
     "metadata": {},
     "output_type": "execute_result"
    },
    {
     "data": {
      "image/png": "[encoded data removed]",
      "text/plain": [
       "<Figure size 432x288 with 1 Axes>"
      ]
     },
     "metadata": {
      "needs_background": "light"
     },
     "output_type": "display_data"
    }
   ],
   "source": [
    "count_downsampled = data_downsampled['potential'].value_counts()\n",
    "count_downsampled.plot(kind='bar',title='potential')\n",
    "print('Label','Count')\n",
    "count_downsampled"
   ]
  },
  {
   "cell_type": "code",
   "execution_count": 48,
   "metadata": {},
   "outputs": [
    {
     "name": "stderr",
     "output_type": "stream",
     "text": [
      "E:\\Anaconda3\\lib\\site-packages\\sklearn\\model_selection\\_split.py:2179: FutureWarning: From version 0.21, test_size will always complement train_size unless both are specified.\n",
      "  FutureWarning)\n"
     ]
    }
   ],
   "source": [
    "data_feature1 = data_downsampled.filter(['pace','physic','power_stamina','passing','shooting','defending'],axis=1)\n",
    "\n",
    "X_train1, X_test1, y_train1, y_test1 = train_test_split(data_feature1, \n",
    "                                                        data_downsampled['potential'], \n",
    "                                                        train_size=0.85, \n",
    "                                                        shuffle=True)"
   ]
  },
  {
   "cell_type": "code",
   "execution_count": 49,
   "metadata": {},
   "outputs": [
    {
     "name": "stderr",
     "output_type": "stream",
     "text": [
      "E:\\Anaconda3\\lib\\site-packages\\ipykernel_launcher.py:8: FutureWarning: The signature of `Series.to_csv` was aligned to that of `DataFrame.to_csv`, and argument 'header' will change its default value from False to True: please pass an explicit value to suppress this warning.\n",
      "  \n",
      "E:\\Anaconda3\\lib\\site-packages\\ipykernel_launcher.py:11: FutureWarning: The signature of `Series.to_csv` was aligned to that of `DataFrame.to_csv`, and argument 'header' will change its default value from False to True: please pass an explicit value to suppress this warning.\n",
      "  # This is added back by InteractiveShellApp.init_path()\n"
     ]
    }
   ],
   "source": [
    "# Save X_train1\n",
    "X_train1.to_csv(\"Data/X_train1.csv\", sep=',',index=False, encoding='utf-8')\n",
    "\n",
    "# Save X_test1\n",
    "X_test1.to_csv(\"Data/X_test1.csv\", sep=',',index=False, encoding='utf-8')\n",
    "\n",
    "# Save y_train1\n",
    "y_train1.to_csv(\"Data/y_train1.csv\", sep=',',index=False, encoding='utf-8')\n",
    "\n",
    "# Save y_test1\n",
    "y_test1.to_csv(\"Data/y_test1.csv\", sep=',',index=False, encoding='utf-8')"
   ]
  },
  {
   "cell_type": "code",
   "execution_count": 50,
   "metadata": {},
   "outputs": [
    {
     "data": {
      "text/plain": [
       "SVC(C=1.0, cache_size=200, class_weight=None, coef0=0.0,\n",
       "  decision_function_shape='ovr', degree=3, gamma='auto_deprecated',\n",
       "  kernel='linear', max_iter=-1, probability=False, random_state=None,\n",
       "  shrinking=True, tol=0.001, verbose=False)"
      ]
     },
     "execution_count": 50,
     "metadata": {},
     "output_type": "execute_result"
    }
   ],
   "source": [
    "classifier1 = svm.SVC(kernel='linear') \n",
    "\n",
    "classifier1.fit(X_train1, y_train1) "
   ]
  },
  {
   "cell_type": "markdown",
   "metadata": {},
   "source": [
    "## CLASSIFICATION RESULTS"
   ]
  },
  {
   "cell_type": "code",
   "execution_count": 51,
   "metadata": {},
   "outputs": [
    {
     "data": {
      "text/html": [
       "<div>\n",
       "<style scoped>\n",
       "    .dataframe tbody tr th:only-of-type {\n",
       "        vertical-align: middle;\n",
       "    }\n",
       "\n",
       "    .dataframe tbody tr th {\n",
       "        vertical-align: top;\n",
       "    }\n",
       "\n",
       "    .dataframe thead th {\n",
       "        text-align: right;\n",
       "    }\n",
       "</style>\n",
       "<table border=\"1\" class=\"dataframe\">\n",
       "  <thead>\n",
       "    <tr style=\"text-align: right;\">\n",
       "      <th></th>\n",
       "      <th>Model</th>\n",
       "      <th>Kernel</th>\n",
       "      <th>Balanced Data</th>\n",
       "      <th>Training Set Accuracy</th>\n",
       "      <th>Test Set Accuracy</th>\n",
       "    </tr>\n",
       "  </thead>\n",
       "  <tbody>\n",
       "    <tr>\n",
       "      <th>0</th>\n",
       "      <td>Support Vector Machine</td>\n",
       "      <td>Linear</td>\n",
       "      <td>No</td>\n",
       "      <td>0.777678</td>\n",
       "      <td>0.765864</td>\n",
       "    </tr>\n",
       "    <tr>\n",
       "      <th>1</th>\n",
       "      <td>Support Vector Machine</td>\n",
       "      <td>Linear</td>\n",
       "      <td>Yes</td>\n",
       "      <td>0.538430</td>\n",
       "      <td>0.542002</td>\n",
       "    </tr>\n",
       "  </tbody>\n",
       "</table>\n",
       "</div>"
      ],
      "text/plain": [
       "                    Model  Kernel Balanced Data  Training Set Accuracy  \\\n",
       "0  Support Vector Machine  Linear            No               0.777678   \n",
       "1  Support Vector Machine  Linear           Yes               0.538430   \n",
       "\n",
       "   Test Set Accuracy  \n",
       "0           0.765864  \n",
       "1           0.542002  "
      ]
     },
     "execution_count": 51,
     "metadata": {},
     "output_type": "execute_result"
    }
   ],
   "source": [
    "from sklearn import metrics\n",
    "df_models = pd.DataFrame([\n",
    "    {\n",
    "     'Model': 'Support Vector Machine',\n",
    "     'Kernel' : 'Linear',\n",
    "     'Balanced Data': 'No',\n",
    "     'Training Set Accuracy': metrics.accuracy_score(y_train, classifier.predict(X_train)),\n",
    "     'Test Set Accuracy': metrics.accuracy_score(y_test, classifier.predict(X_test))\n",
    "    },\n",
    "    {\n",
    "     'Model': 'Support Vector Machine',\n",
    "     'Kernel' : 'Linear',\n",
    "     'Balanced Data': 'Yes',\n",
    "     'Training Set Accuracy': metrics.accuracy_score(y_train1, classifier1.predict(X_train1)),\n",
    "     'Test Set Accuracy': metrics.accuracy_score(y_test1, classifier1.predict(X_test1))\n",
    "    }\n",
    "])\n",
    "df_models"
   ]
  }
 ],
 "metadata": {
  "kernelspec": {
   "display_name": "Python 3",
   "language": "python",
   "name": "python3"
  },
  "language_info": {
   "codemirror_mode": {
    "name": "ipython",
    "version": 3
   },
   "file_extension": ".py",
   "mimetype": "text/x-python",
   "name": "python",
   "nbconvert_exporter": "python",
   "pygments_lexer": "ipython3",
   "version": "3.7.3"
  }
 },
 "nbformat": 4,
 "nbformat_minor": 2
}
